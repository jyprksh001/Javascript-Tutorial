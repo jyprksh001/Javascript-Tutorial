{
 "cells": [
  {
   "cell_type": "markdown",
   "metadata": {
    "collapsed": true
   },
   "source": [
    "The for statement creates a loop that consists of three optional expressions, enclosed in parentheses and separated by semicolons, followed by a statement (usually a block statement) to be executed in the loop.\n",
    "\n",
    "An expression (including assignment expressions) or variable declaration. Typically used to initialize a counter variable. This expression may optionally declare new variables with the var keyword. These variables are not local to the loop, i.e. they are in the same scope the for loop is in. The result of this expression is discarded.\n"
   ]
  },
  {
   "cell_type": "code",
   "execution_count": 3,
   "metadata": {
    "collapsed": false
   },
   "outputs": [
    {
     "name": "stdout",
     "output_type": "stream",
     "text": [
      "0\n",
      "1\n",
      "2\n",
      "3\n",
      "3\n"
     ]
    },
    {
     "data": {
      "text/plain": [
       "undefined"
      ]
     },
     "execution_count": 3,
     "metadata": {},
     "output_type": "execute_result"
    }
   ],
   "source": [
    "for(var i=0;i<3;i++){\n",
    "console.log(i)\n",
    "}\n",
    "console.log(i)\n",
    "console.log(i)\n"
   ]
  },
  {
   "cell_type": "raw",
   "metadata": {},
   "source": [
    "above example shows the scope of i which is global in nature"
   ]
  },
  {
   "cell_type": "code",
   "execution_count": 8,
   "metadata": {
    "collapsed": false
   },
   "outputs": [
    {
     "name": "stdout",
     "output_type": "stream",
     "text": [
      "0\n",
      "1\n",
      "2\n",
      "3\n",
      "4\n",
      "5\n",
      "6\n",
      "7\n",
      "8\n"
     ]
    },
    {
     "data": {
      "text/plain": [
       "undefined"
      ]
     },
     "execution_count": 8,
     "metadata": {},
     "output_type": "execute_result"
    }
   ],
   "source": [
    "var i = 0;\n",
    "for (; i < 9; i++) {\n",
    "    console.log(i);\n",
    "    // more statements\n",
    "}"
   ]
  },
  {
   "cell_type": "markdown",
   "metadata": {},
   "source": [
    "An expression to be evaluated before each loop iteration. If this expression evaluates to true, statement is executed. This conditional test is optional. If omitted, the condition always evaluates to true. If the expression evaluates to false, execution skips to the first expression following the for construct."
   ]
  },
  {
   "cell_type": "code",
   "execution_count": 6,
   "metadata": {
    "collapsed": false
   },
   "outputs": [
    {
     "name": "stdout",
     "output_type": "stream",
     "text": [
      "0\n",
      "1\n",
      "2\n",
      "3\n",
      "4\n"
     ]
    },
    {
     "data": {
      "text/plain": [
       "undefined"
      ]
     },
     "execution_count": 6,
     "metadata": {},
     "output_type": "execute_result"
    }
   ],
   "source": [
    "for (var i = 0;; i++) {\n",
    "   console.log(i);\n",
    "   if (i > 3) break;\n",
    "   // more statements\n",
    "}"
   ]
  },
  {
   "cell_type": "markdown",
   "metadata": {},
   "source": [
    "above example shows that the without condition it always evaluates to true\n"
   ]
  },
  {
   "cell_type": "markdown",
   "metadata": {},
   "source": [
    "final-expression\n",
    "An expression to be evaluated at the end of each loop iteration. This occurs before the next evaluation of condition. Generally used to update or increment the counter variable."
   ]
  },
  {
   "cell_type": "code",
   "execution_count": 9,
   "metadata": {
    "collapsed": false
   },
   "outputs": [
    {
     "name": "stdout",
     "output_type": "stream",
     "text": [
      "0\n",
      "1\n",
      "2\n",
      "3\n"
     ]
    },
    {
     "data": {
      "text/plain": [
       "3"
      ]
     },
     "execution_count": 9,
     "metadata": {},
     "output_type": "execute_result"
    }
   ],
   "source": [
    "var i = 0;\n",
    "\n",
    "for (;;) {\n",
    "  if (i > 3) break;\n",
    "  console.log(i);\n",
    "  i++;}"
   ]
  },
  {
   "cell_type": "raw",
   "metadata": {
    "collapsed": false
   },
   "source": [
    "var i = 0;\n",
    "\n",
    "for (;;) {\n",
    "  if (i > 3) break;\n",
    "  console.log(i);\n",
    "}"
   ]
  },
  {
   "cell_type": "markdown",
   "metadata": {
    "collapsed": true
   },
   "source": [
    "## Run the above example an you can find an infinite loop as there are no incrementing of variable occours"
   ]
  },
  {
   "cell_type": "markdown",
   "metadata": {},
   "source": [
    "## do-while"
   ]
  },
  {
   "cell_type": "code",
   "execution_count": 1,
   "metadata": {
    "collapsed": false
   },
   "outputs": [
    {
     "ename": "SyntaxError",
     "evalue": "Unexpected token )",
     "output_type": "error",
     "traceback": [
      "SyntaxError: Unexpected token )",
      "    at Object.exports.runInThisContext (vm.js:53:16)",
      "    at run ([eval]:608:19)",
      "    at onRunRequest ([eval]:379:22)",
      "    at onMessage ([eval]:347:17)",
      "    at emitTwo (events.js:100:13)",
      "    at process.emit (events.js:185:7)",
      "    at handleMessage (internal/child_process.js:718:10)",
      "    at Pipe.channel.onread (internal/child_process.js:444:11)"
     ]
    }
   ],
   "source": [
    "var i = 0;\n",
    "do {\n",
    "  i += 1;\n",
    "  console.log(i);\n",
    "}while()"
   ]
  },
  {
   "cell_type": "code",
   "execution_count": 2,
   "metadata": {
    "collapsed": false,
    "scrolled": true
   },
   "outputs": [
    {
     "ename": "SyntaxError",
     "evalue": "Unexpected token )",
     "output_type": "error",
     "traceback": [
      "SyntaxError: Unexpected token )",
      "    at Object.exports.runInThisContext (vm.js:53:16)",
      "    at run ([eval]:608:19)",
      "    at onRunRequest ([eval]:379:22)",
      "    at onMessage ([eval]:347:17)",
      "    at emitTwo (events.js:100:13)",
      "    at process.emit (events.js:185:7)",
      "    at handleMessage (internal/child_process.js:718:10)",
      "    at Pipe.channel.onread (internal/child_process.js:444:11)"
     ]
    }
   ],
   "source": [
    "var n = 0;\n",
    "var x = 0;\n",
    "while () {\n",
    "  n++;\n",
    "  x += n;\n",
    "}\n"
   ]
  },
  {
   "cell_type": "markdown",
   "metadata": {},
   "source": [
    "## labels"
   ]
  },
  {
   "cell_type": "raw",
   "metadata": {},
   "source": [
    "A label provides a statement with an identifier that lets you refer to it elsewhere in your program. For example, you can use a label to identify a loop, and then use the break or continue statements to indicate whether a program should interrupt the loop or continue its execution."
   ]
  },
  {
   "cell_type": "code",
   "execution_count": 1,
   "metadata": {
    "collapsed": false
   },
   "outputs": [
    {
     "name": "stdout",
     "output_type": "stream",
     "text": [
      "0\n",
      "1\n",
      "2\n",
      "3\n",
      "4\n"
     ]
    },
    {
     "data": {
      "text/plain": [
       "4"
      ]
     },
     "execution_count": 1,
     "metadata": {},
     "output_type": "execute_result"
    }
   ],
   "source": [
    "markLoop:\n",
    "var i=0\n",
    "while (i<5) {\n",
    "   console.log(i)\n",
    "   i++\n",
    "}"
   ]
  },
  {
   "cell_type": "raw",
   "metadata": {
    "collapsed": true
   },
   "source": [
    "https://developer.mozilla.org/en-US/docs/Web/JavaScript/Reference/statements/label"
   ]
  },
  {
   "cell_type": "markdown",
   "metadata": {},
   "source": [
    "Use the break statement to terminate a loop, switch, or in conjunction with a labeled statement.\n",
    "\n",
    "When you use break without a label, it terminates the innermost enclosing while, do-while, for, or switch immediately and transfers control to the following statement.\n",
    "When you use break with a label, it terminates the specified labeled statement."
   ]
  },
  {
   "cell_type": "raw",
   "metadata": {},
   "source": [
    "The continue statement can be used to restart a while, do-while, for, or label statement.\n",
    "\n",
    "When you use continue without a label, it terminates the current iteration of the innermost enclosing while, do-while, or for statement and continues execution of the loop with the next iteration. In contrast to the break statement, continue does not terminate the execution of the loop entirely. In a while loop, it jumps back to the condition. In a for loop, it jumps to the increment-expression.\n",
    "When you use continue with a label, it applies to the looping statement identified with that label."
   ]
  },
  {
   "cell_type": "markdown",
   "metadata": {},
   "source": [
    "The for...in statement iterates a specified variable over all the enumerable properties of an object. "
   ]
  },
  {
   "cell_type": "code",
   "execution_count": 7,
   "metadata": {
    "collapsed": false
   },
   "outputs": [
    {
     "name": "stdout",
     "output_type": "stream",
     "text": [
      "[ 3, 5, 7, foo: 'hello' ]\n",
      "0\n",
      "1\n",
      "2\n",
      "foo\n",
      ">>\n",
      "3\n",
      "5\n",
      "7\n"
     ]
    },
    {
     "data": {
      "text/plain": [
       "undefined"
      ]
     },
     "execution_count": 7,
     "metadata": {},
     "output_type": "execute_result"
    }
   ],
   "source": [
    "var arr = [3, 5, 7];\n",
    "arr.foo = \"hello\";\n",
    "console.log(arr)\n",
    "for (var i in arr) {\n",
    "   console.log(i); // logs \"0\", \"1\", \"2\", \"foo\"\n",
    "}\n",
    "console.log('>>')\n",
    "for (var i of arr) {\n",
    "   console.log(i); // logs 3, 5, 7\n",
    "}"
   ]
  },
  {
   "cell_type": "markdown",
   "metadata": {},
   "source": [
    "## functions "
   ]
  },
  {
   "cell_type": "markdown",
   "metadata": {},
   "source": [
    "Primitive parameters (such as a number) are passed to functions by value; the value is passed to the function, but if the function changes the value of the parameter, this change is not reflected globally or in the calling function.\n",
    "\n",
    "If you pass an object (i.e. a non-primitive value, such as Array or a user-defined object) as a parameter and the function changes the object's properties, that change is visible outside the function, "
   ]
  },
  {
   "cell_type": "code",
   "execution_count": 13,
   "metadata": {
    "collapsed": false
   },
   "outputs": [
    {
     "data": {
      "text/plain": [
       "'Toyota'"
      ]
     },
     "execution_count": 13,
     "metadata": {},
     "output_type": "execute_result"
    }
   ],
   "source": [
    "function myFunc(theObject) {\n",
    "  theObject.make = \"Toyota\";\n",
    "}\n",
    "\n",
    "var mycar = {make: \"Honda\", model: \"Accord\", year: 1998};\n",
    "var x, y;\n",
    "\n",
    "x = mycar.make; // x gets the value \"Honda\"\n",
    "myFunc(mycar);\n",
    "y = mycar.make;"
   ]
  },
  {
   "cell_type": "code",
   "execution_count": 9,
   "metadata": {
    "collapsed": false
   },
   "outputs": [
    {
     "data": {
      "text/plain": [
       "'Toyota'"
      ]
     },
     "execution_count": 9,
     "metadata": {},
     "output_type": "execute_result"
    }
   ],
   "source": [
    "y"
   ]
  },
  {
   "cell_type": "code",
   "execution_count": 12,
   "metadata": {
    "collapsed": false
   },
   "outputs": [
    {
     "name": "stdout",
     "output_type": "stream",
     "text": [
      "0\n"
     ]
    },
    {
     "data": {
      "text/plain": [
       "undefined"
      ]
     },
     "execution_count": 12,
     "metadata": {},
     "output_type": "execute_result"
    }
   ],
   "source": [
    "function t(n){\n",
    "    n++\n",
    "}\n",
    "t(1)\n",
    "var n=0\n",
    "console.log(n)"
   ]
  },
  {
   "cell_type": "markdown",
   "metadata": {},
   "source": [
    "As we can see that the function modifies the object but not any primitive data"
   ]
  },
  {
   "cell_type": "markdown",
   "metadata": {},
   "source": [
    "While the function declaration above is syntactically a statement, functions can also be created by a function expression. Such a function can be anonymous; it does not have to have a name. "
   ]
  },
  {
   "cell_type": "code",
   "execution_count": 14,
   "metadata": {
    "collapsed": false
   },
   "outputs": [
    {
     "data": {
      "text/plain": [
       "undefined"
      ]
     },
     "execution_count": 14,
     "metadata": {},
     "output_type": "execute_result"
    }
   ],
   "source": [
    "var square = function(number) { return number * number };\n",
    "var x = square(4) // x gets the value 16"
   ]
  },
  {
   "cell_type": "markdown",
   "metadata": {},
   "source": [
    "Above function has no name"
   ]
  },
  {
   "cell_type": "markdown",
   "metadata": {},
   "source": [
    "However, a name can be provided with a function expression and can be used inside the function to refer to itself, or in a debugger to identify the function in stack traces:"
   ]
  },
  {
   "cell_type": "code",
   "execution_count": 15,
   "metadata": {
    "collapsed": false
   },
   "outputs": [
    {
     "name": "stdout",
     "output_type": "stream",
     "text": [
      "6\n"
     ]
    },
    {
     "data": {
      "text/plain": [
       "undefined"
      ]
     },
     "execution_count": 15,
     "metadata": {},
     "output_type": "execute_result"
    }
   ],
   "source": [
    "var factorial = function fac(n) { return n < 2 ? 1 : n * fac(n-1) };\n",
    "\n",
    "console.log(factorial(3));"
   ]
  },
  {
   "cell_type": "code",
   "execution_count": 17,
   "metadata": {
    "collapsed": false
   },
   "outputs": [
    {
     "name": "stdout",
     "output_type": "stream",
     "text": [
      "6\n"
     ]
    },
    {
     "data": {
      "text/plain": [
       "undefined"
      ]
     },
     "execution_count": 17,
     "metadata": {},
     "output_type": "execute_result"
    }
   ],
   "source": [
    "var factorial1 = function fac(n) { return n < 2 ? 1 : n * factorial1(n-1) };\n",
    "\n",
    "console.log(factorial1(3));"
   ]
  },
  {
   "cell_type": "markdown",
   "metadata": {},
   "source": [
    "Function expressions are convenient when passing a function as an argument to another function. The following example shows a map function being defined and then called with an expression function as its first parameter:"
   ]
  },
  {
   "cell_type": "code",
   "execution_count": 18,
   "metadata": {
    "collapsed": false
   },
   "outputs": [
    {
     "data": {
      "text/plain": [
       "undefined"
      ]
     },
     "execution_count": 18,
     "metadata": {},
     "output_type": "execute_result"
    }
   ],
   "source": [
    "function map(f,a) {\n",
    "  var result = [], // Create a new Array\n",
    "      i;\n",
    "  for (i = 0; i != a.length; i++)\n",
    "    result[i] = f(a[i]);\n",
    "  return result;\n",
    "}"
   ]
  },
  {
   "cell_type": "code",
   "execution_count": 19,
   "metadata": {
    "collapsed": false
   },
   "outputs": [
    {
     "data": {
      "text/plain": [
       "[ 0, 1, 8, 125, 1000 ]"
      ]
     },
     "execution_count": 19,
     "metadata": {},
     "output_type": "execute_result"
    }
   ],
   "source": [
    "var multiply = function(x) {return x * x * x}; // Expression function.\n",
    "map(multiply, [0, 1, 2, 5, 10]);"
   ]
  },
  {
   "cell_type": "markdown",
   "metadata": {},
   "source": [
    "## map method creates a new array"
   ]
  },
  {
   "cell_type": "markdown",
   "metadata": {},
   "source": [
    " you can also use the Function constructor to create functions from a string at runtime, much like eval()."
   ]
  },
  {
   "cell_type": "markdown",
   "metadata": {},
   "source": [
    "Functions must be in scope when they are called, but the function declaration can be hoisted (appear below the call in the code)"
   ]
  },
  {
   "cell_type": "code",
   "execution_count": 20,
   "metadata": {
    "collapsed": false
   },
   "outputs": [
    {
     "name": "stdout",
     "output_type": "stream",
     "text": [
      "25\n"
     ]
    },
    {
     "data": {
      "text/plain": [
       "undefined"
      ]
     },
     "execution_count": 20,
     "metadata": {},
     "output_type": "execute_result"
    }
   ],
   "source": [
    "console.log(square(5));\n",
    "/* ... */\n",
    "function square(n) { return n * n }"
   ]
  },
  {
   "cell_type": "code",
   "execution_count": 22,
   "metadata": {
    "collapsed": false
   },
   "outputs": [
    {
     "name": "stdout",
     "output_type": "stream",
     "text": [
      "undefined\n"
     ]
    },
    {
     "ename": "TypeError",
     "evalue": "square1 is not a function",
     "output_type": "error",
     "traceback": [
      "TypeError: square1 is not a function",
      "    at evalmachine.<anonymous>:2:13",
      "    at Object.exports.runInThisContext (vm.js:54:17)",
      "    at run ([eval]:608:19)",
      "    at onRunRequest ([eval]:379:22)",
      "    at onMessage ([eval]:347:17)",
      "    at emitTwo (events.js:100:13)",
      "    at process.emit (events.js:185:7)",
      "    at handleMessage (internal/child_process.js:718:10)",
      "    at Pipe.channel.onread (internal/child_process.js:444:11)"
     ]
    }
   ],
   "source": [
    "console.log(square1); // square is hoisted with an initial value undefined.\n",
    "console.log(square1(5)); // TypeError: square is not a function\n",
    "var square1 = function (n) { \n",
    "  return n * n; \n",
    "}"
   ]
  },
  {
   "cell_type": "markdown",
   "metadata": {},
   "source": [
    "## function hoisting explanation in above example\n"
   ]
  },
  {
   "cell_type": "markdown",
   "metadata": {},
   "source": [
    "function scope"
   ]
  },
  {
   "cell_type": "markdown",
   "metadata": {},
   "source": [
    " a function defined in the global scope can access all variables defined in the global scope. A function defined inside another function can also access all variables defined in its parent function and any other variable to which the parent function has access."
   ]
  },
  {
   "cell_type": "code",
   "execution_count": 25,
   "metadata": {
    "collapsed": false
   },
   "outputs": [
    {
     "data": {
      "text/plain": [
       "60"
      ]
     },
     "execution_count": 25,
     "metadata": {},
     "output_type": "execute_result"
    }
   ],
   "source": [
    "var num1 = 20,\n",
    "    num2 = 3,\n",
    "    name = \"Chamahk\";\n",
    "\n",
    "// This function is defined in the global scope\n",
    "function multiply() {\n",
    "  return num1 * num2;\n",
    "}\n",
    "\n",
    "multiply(); // Returns 60\n",
    "\n"
   ]
  },
  {
   "cell_type": "code",
   "execution_count": 24,
   "metadata": {
    "collapsed": false
   },
   "outputs": [
    {
     "data": {
      "text/plain": [
       "'Chamahk scored 5'"
      ]
     },
     "execution_count": 24,
     "metadata": {},
     "output_type": "execute_result"
    }
   ],
   "source": [
    "// A nested function example\n",
    "function getScore () {\n",
    "  var num1 = 2,\n",
    "      num2 = 3;\n",
    "  \n",
    "  function add() {\n",
    "    return name + \" scored \" + (num1 + num2);\n",
    "  }\n",
    "  \n",
    "  return add();\n",
    "}\n",
    "\n",
    "getScore(); // Returns \"Chamahk scored 5\""
   ]
  },
  {
   "cell_type": "markdown",
   "metadata": {},
   "source": [
    "## recursion"
   ]
  },
  {
   "cell_type": "markdown",
   "metadata": {},
   "source": [
    "There are three ways for a function to refer to itself:\n",
    "\n",
    "the function's name\n",
    "arguments.callee\n",
    "an in-scope variable that refers to the function"
   ]
  },
  {
   "cell_type": "code",
   "execution_count": 32,
   "metadata": {
    "collapsed": false
   },
   "outputs": [
    {
     "ename": "RangeError",
     "evalue": "Maximum call stack size exceeded",
     "output_type": "error",
     "traceback": [
      "RangeError: Maximum call stack size exceeded",
      "    at Object.bar (evalmachine.<anonymous>:1:23)",
      "    at Object.bar (evalmachine.<anonymous>:3:27)",
      "    at Object.bar (evalmachine.<anonymous>:3:27)",
      "    at Object.bar (evalmachine.<anonymous>:3:27)",
      "    at Object.bar (evalmachine.<anonymous>:3:27)",
      "    at Object.bar (evalmachine.<anonymous>:3:27)",
      "    at Object.bar (evalmachine.<anonymous>:3:27)",
      "    at Object.bar (evalmachine.<anonymous>:3:27)",
      "    at Object.bar (evalmachine.<anonymous>:3:27)",
      "    at Object.bar (evalmachine.<anonymous>:3:27)"
     ]
    }
   ],
   "source": [
    "var foo = function bar() {\n",
    "   // statements go here\n",
    "    console.log(arguments.callee())\n",
    "};\n",
    "\n",
    "foo()"
   ]
  },
  {
   "cell_type": "markdown",
   "metadata": {},
   "source": [
    "3 ways ---> \n",
    "    1.bar()\n",
    "    2.arguments.callee()\n",
    "    3.foo()"
   ]
  },
  {
   "cell_type": "code",
   "execution_count": 37,
   "metadata": {
    "collapsed": false
   },
   "outputs": [
    {
     "data": {
      "text/plain": [
       "10"
      ]
     },
     "execution_count": 37,
     "metadata": {},
     "output_type": "execute_result"
    }
   ],
   "source": [
    "function loop(x) {\n",
    "  if (x >= 10) // \"x >= 10\" is the exit condition (equivalent to \"!(x < 10)\")\n",
    "    return x;\n",
    "  // do stuff\n",
    "  return loop(x + 1); // the recursive call\n",
    "}\n",
    "loop(0);\n"
   ]
  },
  {
   "cell_type": "code",
   "execution_count": 38,
   "metadata": {
    "collapsed": false
   },
   "outputs": [
    {
     "data": {
      "text/plain": [
       "8"
      ]
     },
     "execution_count": 38,
     "metadata": {},
     "output_type": "execute_result"
    }
   ],
   "source": [
    "function outside(x) {\n",
    "  function inside(y) {\n",
    "    return x + y;\n",
    "  }\n",
    "  return inside;\n",
    "}\n",
    "fn_inside = outside(3); // Think of it like: give me a function that adds 3 to whatever you give it\n",
    "result = fn_inside(5); // returns 8\n",
    "\n",
    "result1 = outside(3)(5); // returns 8"
   ]
  },
  {
   "cell_type": "markdown",
   "metadata": {},
   "source": [
    "the above example shows how closure works\n",
    "\n",
    "first call resturns a function which take another argument"
   ]
  },
  {
   "cell_type": "markdown",
   "metadata": {},
   "source": [
    " JavaScript allows for the nesting of functions and grants the inner function full access to all the variables and functions defined inside the outer function (and all other variables and functions that the outer function has access to). However, the outer function does not have access to the variables and functions defined inside the inner function. This provides a sort of security for the variables of the inner function. Also, since the inner function has access to the scope of the outer function, the variables and functions defined in the outer function will live longer than the outer function itself, if the inner function manages to survive beyond the life of the outer function. A closure is created when the inner function is somehow made available to any scope outside the outer function"
   ]
  },
  {
   "cell_type": "markdown",
   "metadata": {},
   "source": [
    "The inner function forms a closure: the inner function can use the arguments and variables of the outer function, while the outer function cannot use the arguments and variables of the inner function."
   ]
  },
  {
   "cell_type": "markdown",
   "metadata": {},
   "source": [
    "Name conflicts"
   ]
  },
  {
   "cell_type": "markdown",
   "metadata": {},
   "source": [
    "When two arguments or variables in the scopes of a closure have the same name, there is a name conflict. More inner scopes take precedence, so the inner-most scope takes the highest precedence, while the outer-most scope takes the lowest."
   ]
  },
  {
   "cell_type": "code",
   "execution_count": 39,
   "metadata": {
    "collapsed": false
   },
   "outputs": [
    {
     "data": {
      "text/plain": [
       "20"
      ]
     },
     "execution_count": 39,
     "metadata": {},
     "output_type": "execute_result"
    }
   ],
   "source": [
    "function outside() {\n",
    "  var x = 10;\n",
    "  function inside(x) {\n",
    "    return x;\n",
    "  }\n",
    "  return inside;\n",
    "}\n",
    "result = outside()(20);\n"
   ]
  },
  {
   "cell_type": "code",
   "execution_count": 41,
   "metadata": {
    "collapsed": false
   },
   "outputs": [
    {
     "data": {
      "text/plain": [
       "'Oliver'"
      ]
     },
     "execution_count": 41,
     "metadata": {},
     "output_type": "execute_result"
    }
   ],
   "source": [
    "var createPet = function(name) {\n",
    "  var sex;\n",
    "  \n",
    "  return {\n",
    "    setName: function(newName) {\n",
    "      name = newName;\n",
    "    },\n",
    "    \n",
    "    getName: function() {\n",
    "      return name;\n",
    "    },\n",
    "    \n",
    "    getSex: function() {\n",
    "      return sex;\n",
    "    },\n",
    "    \n",
    "    setSex: function(newSex) {\n",
    "      if(typeof newSex === \"string\" && (newSex.toLowerCase() === \"male\" || newSex.toLowerCase() === \"female\")) {\n",
    "        sex = newSex;\n",
    "      }\n",
    "    }\n",
    "      \n",
    "  }\n",
    "}\n",
    "\n",
    "var pet = createPet(\"Vivie\");\n",
    "pet.getName();                  // Vivie\n",
    "\n",
    "pet.setName(\"Oliver\");\n",
    "pet.setSex(\"male\");\n",
    "pet.getSex();                   // male\n",
    "pet.getName();"
   ]
  },
  {
   "cell_type": "markdown",
   "metadata": {},
   "source": [
    "a number of pitfalls to watch out for when using closures. If an enclosed function defines a variable with the same name as the name of a variable in the outer scope, there is no way to refer to the variable in the outer scope again.M"
   ]
  },
  {
   "cell_type": "code",
   "execution_count": 42,
   "metadata": {
    "collapsed": false
   },
   "outputs": [
    {
     "data": {
      "text/plain": [
       "undefined"
      ]
     },
     "execution_count": 42,
     "metadata": {},
     "output_type": "execute_result"
    }
   ],
   "source": [
    "var createPet = function(name) {  // Outer function defines a variable called \"name\"\n",
    "  return {\n",
    "    setName: function(name) {    // Enclosed function also defines a variable called \"name\"\n",
    "      name = name;               // ??? How do we access the \"name\" defined by the outer function ???\n",
    "    }\n",
    "  }\n",
    "}"
   ]
  },
  {
   "cell_type": "markdown",
   "metadata": {},
   "source": [
    "function argumnts"
   ]
  },
  {
   "cell_type": "markdown",
   "metadata": {},
   "source": [
    "Using the arguments object, you can call a function with more arguments than it is formally declared to accept. This is often useful if you don't know in advance how many arguments will be passed to the function. You can use arguments.length to determine the number of arguments actually passed to the function, and then access each argument using the arguments object."
   ]
  },
  {
   "cell_type": "code",
   "execution_count": 46,
   "metadata": {
    "collapsed": false
   },
   "outputs": [
    {
     "data": {
      "text/plain": [
       "undefined"
      ]
     },
     "execution_count": 46,
     "metadata": {},
     "output_type": "execute_result"
    }
   ],
   "source": [
    "function myConcat(separator) {\n",
    "   var result = \"\"; // initialize list\n",
    "   var i;\n",
    "   // iterate through arguments\n",
    "    console.log(arguments)\n",
    "   for (i = 1; i < arguments.length; i++) {\n",
    "      result += arguments[i] + separator;\n",
    "   }\n",
    "   return result;\n",
    "}"
   ]
  },
  {
   "cell_type": "code",
   "execution_count": 47,
   "metadata": {
    "collapsed": false
   },
   "outputs": [
    {
     "name": "stdout",
     "output_type": "stream",
     "text": [
      "{ '0': ', ', '1': 'red', '2': 'orange', '3': 'blue' }\n"
     ]
    },
    {
     "data": {
      "text/plain": [
       "'red, orange, blue, '"
      ]
     },
     "execution_count": 47,
     "metadata": {},
     "output_type": "execute_result"
    }
   ],
   "source": [
    "myConcat(\", \", \"red\", \"orange\", \"blue\");\n"
   ]
  },
  {
   "cell_type": "code",
   "execution_count": null,
   "metadata": {
    "collapsed": true
   },
   "outputs": [],
   "source": []
  }
 ],
 "metadata": {
  "kernelspec": {
   "display_name": "Javascript (Node.js)",
   "language": "javascript",
   "name": "javascript"
  },
  "language_info": {
   "file_extension": ".js",
   "mimetype": "application/javascript",
   "name": "javascript",
   "version": "5.12.0"
  }
 },
 "nbformat": 4,
 "nbformat_minor": 1
}
