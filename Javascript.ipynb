{
 "cells": [
  {
   "cell_type": "code",
   "execution_count": 1,
   "metadata": {
    "collapsed": false
   },
   "outputs": [
    {
     "data": {
      "text/plain": [
       "undefined"
      ]
     },
     "execution_count": 1,
     "metadata": {},
     "output_type": "execute_result"
    }
   ],
   "source": [
    "var a=2"
   ]
  },
  {
   "cell_type": "code",
   "execution_count": 2,
   "metadata": {
    "collapsed": false
   },
   "outputs": [
    {
     "name": "stdout",
     "output_type": "stream",
     "text": [
      "2\n"
     ]
    },
    {
     "data": {
      "text/plain": [
       "undefined"
      ]
     },
     "execution_count": 2,
     "metadata": {},
     "output_type": "execute_result"
    }
   ],
   "source": [
    "console.log(a)"
   ]
  },
  {
   "cell_type": "code",
   "execution_count": 3,
   "metadata": {
    "collapsed": false
   },
   "outputs": [
    {
     "data": {
      "text/plain": [
       "2"
      ]
     },
     "execution_count": 3,
     "metadata": {},
     "output_type": "execute_result"
    }
   ],
   "source": [
    "a"
   ]
  },
  {
   "cell_type": "code",
   "execution_count": 6,
   "metadata": {
    "collapsed": false
   },
   "outputs": [
    {
     "data": {
      "text/plain": [
       "'Hello World'"
      ]
     },
     "execution_count": 6,
     "metadata": {},
     "output_type": "execute_result"
    }
   ],
   "source": [
    "function greetMe(yourName) {\n",
    "    return \"Hello \" + yourName\n",
    "}\n",
    "\n",
    "greetMe(\"World\");"
   ]
  },
  {
   "cell_type": "markdown",
   "metadata": {},
   "source": [
    "In JavaScript, instructions are called statements and are separated by a semicolon (;). Spaces, tabs and newline characters are called whitespace. The source text of JavaScript scripts gets scanned from left to right and is converted into a sequence of input elements which are tokens, control characters, line terminators, comments or whitespace. "
   ]
  },
  {
   "cell_type": "markdown",
   "metadata": {},
   "source": [
    "CommentsEDIT\n",
    "The syntax of comments is the same as in C++ and in many other languages:\n",
    "\n",
    "// a one line comment\n",
    " \n",
    "/* this is a longer, \n",
    "\n",
    "   multi-line comment\n",
    "*/"
   ]
  },
  {
   "cell_type": "markdown",
   "metadata": {},
   "source": [
    "## Declarations"
   ]
  },
  {
   "cell_type": "markdown",
   "metadata": {},
   "source": [
    "The variable statement declares a variable, optionally initializing it to a value.\n",
    "Variable declarations, wherever they occur, are processed before any code is executed. The scope of a variable declared with var is its current execution context, which is either the enclosing function or, for variables declared outside any function, global.\n",
    "Assigning a value to an undeclared variable implicitly creates it as a global variable (it becomes a property of the global object) when the assignment is executed. The differences between declared and undeclared variables are:\n",
    "\n",
    "1. Declared variables are constrained in the execution context in which they are declared. Undeclared variables are always global."
   ]
  },
  {
   "cell_type": "code",
   "execution_count": 8,
   "metadata": {
    "collapsed": false
   },
   "outputs": [
    {
     "name": "stdout",
     "output_type": "stream",
     "text": [
      "1\n"
     ]
    },
    {
     "ename": "ReferenceError",
     "evalue": "z is not defined",
     "output_type": "error",
     "traceback": [
      "ReferenceError: z is not defined",
      "    at evalmachine.<anonymous>:9:13",
      "    at Object.exports.runInThisContext (vm.js:54:17)",
      "    at run ([eval]:608:19)",
      "    at onRunRequest ([eval]:379:22)",
      "    at onMessage ([eval]:347:17)",
      "    at emitTwo (events.js:100:13)",
      "    at process.emit (events.js:185:7)",
      "    at handleMessage (internal/child_process.js:718:10)",
      "    at Pipe.channel.onread (internal/child_process.js:444:11)"
     ]
    }
   ],
   "source": [
    "function x() {\n",
    "  y = 1;   // Throws a ReferenceError in strict mode\n",
    "  var z = 2;\n",
    "}\n",
    "\n",
    "x();\n",
    "\n",
    "console.log(y); // logs \"1\" \n",
    "console.log(z); // Throws a ReferenceError: z is not defined outside x"
   ]
  },
  {
   "cell_type": "markdown",
   "metadata": {},
   "source": [
    "## example of reference error"
   ]
  },
  {
   "cell_type": "markdown",
   "metadata": {},
   "source": [
    "Declared variables are created before any code is executed. Undeclared variables do not exist until the code assigning to them is executed."
   ]
  },
  {
   "cell_type": "code",
   "execution_count": 11,
   "metadata": {
    "collapsed": false
   },
   "outputs": [
    {
     "ename": "ReferenceError",
     "evalue": "c is not defined",
     "output_type": "error",
     "traceback": [
      "ReferenceError: c is not defined",
      "    at evalmachine.<anonymous>:1:13",
      "    at Object.exports.runInThisContext (vm.js:54:17)",
      "    at run ([eval]:608:19)",
      "    at onRunRequest ([eval]:379:22)",
      "    at onMessage ([eval]:347:17)",
      "    at emitTwo (events.js:100:13)",
      "    at process.emit (events.js:185:7)",
      "    at handleMessage (internal/child_process.js:718:10)",
      "    at Pipe.channel.onread (internal/child_process.js:444:11)"
     ]
    }
   ],
   "source": [
    "console.log(c);                // Throws a ReferenceError.\n",
    "console.log('still going...'); // Never executes."
   ]
  },
  {
   "cell_type": "markdown",
   "metadata": {},
   "source": [
    "## we can see above that \"still going\" statement hasn't executed "
   ]
  },
  {
   "cell_type": "code",
   "execution_count": 12,
   "metadata": {
    "collapsed": false
   },
   "outputs": [
    {
     "name": "stdout",
     "output_type": "stream",
     "text": [
      "undefined\n",
      "still going...\n"
     ]
    },
    {
     "data": {
      "text/plain": [
       "undefined"
      ]
     },
     "execution_count": 12,
     "metadata": {},
     "output_type": "execute_result"
    }
   ],
   "source": [
    "var c;\n",
    "console.log(c);                // logs \"undefined\" or \"\" depending on browser.\n",
    "console.log('still going...'); // logs \"still going...\"."
   ]
  },
  {
   "cell_type": "markdown",
   "metadata": {},
   "source": [
    "## compare above two examples"
   ]
  },
  {
   "cell_type": "markdown",
   "metadata": {},
   "source": [
    "Declared variables are a non-configurable property of their execution context (function or global). Undeclared variables are configurable (e.g. can be deleted).\n"
   ]
  },
  {
   "cell_type": "code",
   "execution_count": 19,
   "metadata": {
    "collapsed": false
   },
   "outputs": [
    {
     "ename": "ReferenceError",
     "evalue": "b is not defined",
     "output_type": "error",
     "traceback": [
      "ReferenceError: b is not defined",
      "    at evalmachine.<anonymous>:3:3",
      "    at Object.exports.runInThisContext (vm.js:54:17)",
      "    at run ([eval]:608:19)",
      "    at onRunRequest ([eval]:379:22)",
      "    at onMessage ([eval]:347:17)",
      "    at emitTwo (events.js:100:13)",
      "    at process.emit (events.js:185:7)",
      "    at handleMessage (internal/child_process.js:718:10)",
      "    at Pipe.channel.onread (internal/child_process.js:444:11)"
     ]
    }
   ],
   "source": [
    "'use strict'\n",
    "var a = 1;\n",
    "b = 2;\n",
    "console.log(a)\n",
    "delete this.a; // Throws a TypeError in strict mode. Fails silently otherwise.\n",
    "console.log(\"deleting b\")\n",
    "delete this.b;\n",
    "console.log(a, b); // Throws a ReferenceError. \n",
    "// The 'b' property was deleted and no longer exists."
   ]
  },
  {
   "cell_type": "markdown",
   "metadata": {},
   "source": [
    "## The above example clearly shows that declared element cant be deleted while declared does "
   ]
  },
  {
   "cell_type": "markdown",
   "metadata": {},
   "source": [
    "## hoisting very important"
   ]
  },
  {
   "cell_type": "markdown",
   "metadata": {},
   "source": [
    "Because variable declarations (and declarations in general) are processed before any code is executed, declaring a variable anywhere in the code is equivalent to declaring it at the top. This also means that a variable can appear to be used before it's declared. This behavior is called \"hoisting\", as it appears that the variable declaration is moved to the top of the function or global code."
   ]
  },
  {
   "cell_type": "code",
   "execution_count": 20,
   "metadata": {
    "collapsed": false
   },
   "outputs": [
    {
     "data": {
      "text/plain": [
       "2"
      ]
     },
     "execution_count": 20,
     "metadata": {},
     "output_type": "execute_result"
    }
   ],
   "source": [
    "bla = 2\n",
    "var bla;\n",
    "// ...\n",
    "\n",
    "// is implicitly understood as:\n",
    "\n",
    "var bla;\n",
    "bla = 2;"
   ]
  },
  {
   "cell_type": "markdown",
   "metadata": {},
   "source": [
    "### you can see in the above exmple that javascript processes all var statement before executing the code "
   ]
  },
  {
   "cell_type": "markdown",
   "metadata": {},
   "source": [
    "For that reason, it is recommended to always declare variables at the top of their scope (the top of global code and the top of function code) so it's clear which variables are function scoped (local) and which are resolved on the scope chain."
   ]
  },
  {
   "cell_type": "markdown",
   "metadata": {},
   "source": [
    "## Declaring and initializing two variables\n",
    "var a = 0, b = 0;\n",
    "\n",
    "## Another case\n",
    "var a = \"A\";\n",
    "var b = a;\n",
    "\n",
    "// Equivalent to:\n",
    "\n",
    "var a, b = a = \"A\";\n",
    "\n",
    "## Be mindful of the order:\n",
    "\n",
    "var x = y, y = 'A';\n",
    "console.log(x + y); // undefinedA"
   ]
  },
  {
   "cell_type": "markdown",
   "metadata": {},
   "source": [
    "## Initialization of several variables\n",
    "\n",
    "y is global in this case"
   ]
  },
  {
   "cell_type": "code",
   "execution_count": 21,
   "metadata": {
    "collapsed": false
   },
   "outputs": [
    {
     "name": "stdout",
     "output_type": "stream",
     "text": [
      "0 1\n"
     ]
    },
    {
     "data": {
      "text/plain": [
       "undefined"
      ]
     },
     "execution_count": 21,
     "metadata": {},
     "output_type": "execute_result"
    }
   ],
   "source": [
    "var x = 0;\n",
    "\n",
    "function f(){\n",
    "  var x = y = 1; // x is declared locally. y is not!\n",
    "}\n",
    "f();\n",
    "\n",
    "console.log(x, y); // Throws a ReferenceError in strict mode (y is not defined). 0, 1 otherwise. \n",
    "// In non-strict mode:\n",
    "// x is the global one as expected\n",
    "// y leaked outside of the function, though!"
   ]
  },
  {
   "cell_type": "markdown",
   "metadata": {},
   "source": [
    "## Implicit globals and outer function scope--> important"
   ]
  },
  {
   "cell_type": "code",
   "execution_count": 23,
   "metadata": {
    "collapsed": false
   },
   "outputs": [
    {
     "name": "stdout",
     "output_type": "stream",
     "text": [
      "undefined\n",
      "0 2\n",
      "3 4 5\n",
      "3 5\n",
      "undefined\n"
     ]
    },
    {
     "data": {
      "text/plain": [
       "undefined"
      ]
     },
     "execution_count": 23,
     "metadata": {},
     "output_type": "execute_result"
    }
   ],
   "source": [
    "var x1 = 0;  // x is declared global, then assigned a value of 0\n",
    "\n",
    "console.log(typeof z1); // undefined, since z doesn't exist yet\n",
    "\n",
    "function a() { // when a is called,\n",
    "  var y1 = 2;   // y is declared local to function a, then assigned a value of 2\n",
    "\n",
    "  console.log(x1, y1);   // 0 2 \n",
    "\n",
    "  function b() {       // when b is called\n",
    "    x1 = 3;  // assigns 3 to existing global x, doesn't create a new global var\n",
    "    y1 = 4;  // assigns 4 to existing outer y, doesn't create a new global var\n",
    "    z1 = 5;  // creates a new global variable z and assigns a value of 5. \n",
    "  }         // (Throws a ReferenceError in strict mode.)\n",
    "\n",
    "  b();     // calling b creates z as a global variable\n",
    "  console.log(x1, y1, z1);  // 3 4 5\n",
    "}\n",
    "\n",
    "a();                   // calling a also calls b\n",
    "console.log(x1, z1);     // 3 5\n",
    "console.log(typeof y1); // undefined as y is local to function a"
   ]
  },
  {
   "cell_type": "markdown",
   "metadata": {},
   "source": [
    "## let statement"
   ]
  },
  {
   "cell_type": "markdown",
   "metadata": {},
   "source": [
    "The let statement declares a block scope local variable, optionally initializing it to a value.\n",
    "\n",
    "let allows you to declare variables that are limited in scope to the block, statement, or expression on which it is used. This is unlike the var keyword, which defines a variable globally, or locally to an entire function regardless of block scope.\n"
   ]
  },
  {
   "cell_type": "code",
   "execution_count": 27,
   "metadata": {
    "collapsed": false
   },
   "outputs": [
    {
     "ename": "SyntaxError",
     "evalue": "Block-scoped declarations (let, const, function, class) not yet supported outside strict mode",
     "output_type": "error",
     "traceback": [
      "SyntaxError: Block-scoped declarations (let, const, function, class) not yet supported outside strict mode",
      "    at Object.exports.runInThisContext (vm.js:53:16)",
      "    at run ([eval]:608:19)",
      "    at onRunRequest ([eval]:379:22)",
      "    at onMessage ([eval]:347:17)",
      "    at emitTwo (events.js:100:13)",
      "    at process.emit (events.js:185:7)",
      "    at handleMessage (internal/child_process.js:718:10)",
      "    at Pipe.channel.onread (internal/child_process.js:444:11)"
     ]
    }
   ],
   "source": [
    "function varTest() {\n",
    "  var x = 1;\n",
    "  if (true) {\n",
    "    var x = 2;  // same variable!\n",
    "    console.log(x);  // 2\n",
    "  }\n",
    "  console.log(x);  // 2\n",
    "}\n",
    "varTest()\n",
    "\n",
    "function letTest() {\n",
    "  let x = 1;\n",
    "  if (true) {\n",
    "    let x = 2;  // different variable\n",
    "    console.log(x);  // 2\n",
    "  }\n",
    "  console.log(x);  // 1\n",
    "}\n",
    "\n",
    "letTest()"
   ]
  },
  {
   "cell_type": "code",
   "execution_count": 29,
   "metadata": {
    "collapsed": false
   },
   "outputs": [
    {
     "name": "stdout",
     "output_type": "stream",
     "text": [
      "2\n",
      "2\n",
      ">> let\n",
      "2\n",
      "1\n"
     ]
    },
    {
     "data": {
      "text/plain": [
       "undefined"
      ]
     },
     "execution_count": 29,
     "metadata": {},
     "output_type": "execute_result"
    }
   ],
   "source": [
    "'use strict'\n",
    "function varTest() {\n",
    "  var x = 1;\n",
    "  if (true) {\n",
    "    var x = 2;  // same variable!\n",
    "    console.log(x);  // 2\n",
    "  }\n",
    "  console.log(x);  // 2\n",
    "}\n",
    "varTest()\n",
    "console.log('>> let')\n",
    "function letTest() {\n",
    "  let x = 1;\n",
    "  if (true) {\n",
    "    let x = 2;  // different variable\n",
    "    console.log(x);  // 2\n",
    "  }\n",
    "  console.log(x);  // 1\n",
    "}\n",
    "\n",
    "letTest()"
   ]
  },
  {
   "cell_type": "markdown",
   "metadata": {},
   "source": [
    "## check these important difference between var and let"
   ]
  },
  {
   "cell_type": "raw",
   "metadata": {},
   "source": [
    "## single instance when using var\n",
    "<html>\n",
    "<body>\n",
    "\n",
    "<p id=\"demo\"></p>\n",
    "\n",
    "<script>\n",
    "var list = document.getElementById(\"demo\");\n",
    "\n",
    "for (var i = 1; i <= 5; i++) {\n",
    "  let item = document.createElement(\"li\");\n",
    "  item.appendChild(document.createTextNode(\"Item \" + i));\n",
    "\n",
    "  item.onclick = function (ev) {\n",
    "    console.log(\"Item \" + i + \" is clicked.\");\n",
    "  };\n",
    "  list.appendChild(item);\n",
    "}\n",
    "</script>\n",
    "\n",
    "</body>\n",
    "</html> \n",
    "\n",
    "## five different intances when using let\n",
    "<html>\n",
    "<body>\n",
    "\n",
    "<p id=\"demo\"></p>\n",
    "\n",
    "<script>\n",
    "var list = document.getElementById(\"demo\");\n",
    "\n",
    "for (let i = 1; i <= 5; i++) {\n",
    "  let item = document.createElement(\"li\");\n",
    "  item.appendChild(document.createTextNode(\"Item \" + i));\n",
    "\n",
    "  item.onclick = function (ev) {\n",
    "    console.log(\"Item \" + i + \" is clicked.\");\n",
    "  };\n",
    "  list.appendChild(item);\n",
    "}\n",
    "</script>\n",
    "\n",
    "</body>\n",
    "</html>\n"
   ]
  },
  {
   "cell_type": "markdown",
   "metadata": {},
   "source": [
    "\n",
    "## Main difference between let and var is  when u use var it adds a key in window variable but if u use let it doesn't"
   ]
  },
  {
   "cell_type": "code",
   "execution_count": 36,
   "metadata": {
    "collapsed": false
   },
   "outputs": [
    {
     "name": "stdout",
     "output_type": "stream",
     "text": [
      "global\n",
      "undefined\n"
     ]
    },
    {
     "data": {
      "text/plain": [
       "undefined"
      ]
     },
     "execution_count": 36,
     "metadata": {},
     "output_type": "execute_result"
    }
   ],
   "source": [
    "'use strict'\n",
    "var x = 'global';\n",
    "let z2 = 'global';\n",
    "console.log(this.x); // \"global\"\n",
    "console.log(this.z2); // undefined"
   ]
  },
  {
   "cell_type": "code",
   "execution_count": 39,
   "metadata": {
    "collapsed": false
   },
   "outputs": [
    {
     "ename": "TypeError",
     "evalue": "Identifier 'y' has already been declared",
     "output_type": "error",
     "traceback": [
      "TypeError: Identifier 'y' has already been declared",
      "    at evalmachine.<anonymous>:1:1",
      "    at Object.exports.runInThisContext (vm.js:54:17)",
      "    at run ([eval]:608:19)",
      "    at onRunRequest ([eval]:379:22)",
      "    at onMessage ([eval]:347:17)",
      "    at emitTwo (events.js:100:13)",
      "    at process.emit (events.js:185:7)",
      "    at handleMessage (internal/child_process.js:718:10)",
      "    at Pipe.channel.onread (internal/child_process.js:444:11)"
     ]
    }
   ],
   "source": [
    "'use strict'\n",
    "let y=2"
   ]
  },
  {
   "cell_type": "markdown",
   "metadata": {},
   "source": [
    "### Another big thing about let is if u have already declared a variable using let and again if you are trying to declare using let again then it will throw an error\n"
   ]
  },
  {
   "cell_type": "code",
   "execution_count": 41,
   "metadata": {
    "collapsed": false
   },
   "outputs": [
    {
     "name": "stdout",
     "output_type": "stream",
     "text": [
      "foo\n",
      "bar\n"
     ]
    },
    {
     "data": {
      "text/plain": [
       "undefined"
      ]
     },
     "execution_count": 41,
     "metadata": {},
     "output_type": "execute_result"
    }
   ],
   "source": [
    "\n",
    "'use strict'\n",
    "\n",
    "var SomeConstructor;\n",
    "\n",
    "\n",
    "{\n",
    "    let privateScope = {};\n",
    "\n",
    "    SomeConstructor = function SomeConstructor () {\n",
    "        this.someProperty = \"foo\";\n",
    "        privateScope.hiddenProperty = \"bar\";\n",
    "    }\n",
    "\n",
    "    SomeConstructor.prototype.showPublic = function () {\n",
    "        console.log(this.someProperty); // foo\n",
    "    }\n",
    "\n",
    "    SomeConstructor.prototype.showPrivate = function () {\n",
    "        console.log(privateScope.hiddenProperty); // bar\n",
    "    }\n",
    "\n",
    "}\n",
    "\n",
    "var myInstance = new SomeConstructor();\n",
    "\n",
    "myInstance.showPublic();\n",
    "myInstance.showPrivate();"
   ]
  },
  {
   "cell_type": "markdown",
   "metadata": {},
   "source": [
    "## Doubtful about this type of code style\n",
    "\n",
    "Temporal dead zone and errors with let\n",
    "\n",
    "Redeclaring the same variable within the same function or block scope raises a SyntaxError.\n"
   ]
  },
  {
   "cell_type": "code",
   "execution_count": 45,
   "metadata": {
    "collapsed": false
   },
   "outputs": [
    {
     "ename": "SyntaxError",
     "evalue": "Identifier 'foo' has already been declared",
     "output_type": "error",
     "traceback": [
      "SyntaxError: Identifier 'foo' has already been declared",
      "    at Object.exports.runInThisContext (vm.js:53:16)",
      "    at run ([eval]:608:19)",
      "    at onRunRequest ([eval]:379:22)",
      "    at onMessage ([eval]:347:17)",
      "    at emitTwo (events.js:100:13)",
      "    at process.emit (events.js:185:7)",
      "    at handleMessage (internal/child_process.js:718:10)",
      "    at Pipe.channel.onread (internal/child_process.js:444:11)"
     ]
    }
   ],
   "source": [
    "  'use strict'\n",
    "  let foo;\n",
    "  let foo; // SyntaxError thrown."
   ]
  },
  {
   "cell_type": "code",
   "execution_count": 47,
   "metadata": {
    "collapsed": false
   },
   "outputs": [
    {
     "ename": "SyntaxError",
     "evalue": "Identifier 'a3' has already been declared",
     "output_type": "error",
     "traceback": [
      "SyntaxError: Identifier 'a3' has already been declared",
      "    at Object.exports.runInThisContext (vm.js:53:16)",
      "    at run ([eval]:608:19)",
      "    at onRunRequest ([eval]:379:22)",
      "    at onMessage ([eval]:347:17)",
      "    at emitTwo (events.js:100:13)",
      "    at process.emit (events.js:185:7)",
      "    at handleMessage (internal/child_process.js:718:10)",
      "    at Pipe.channel.onread (internal/child_process.js:444:11)"
     ]
    }
   ],
   "source": [
    "'use strict'\n",
    "var a3=1\n",
    "let a3=1"
   ]
  },
  {
   "cell_type": "code",
   "execution_count": 48,
   "metadata": {
    "collapsed": false
   },
   "outputs": [
    {
     "ename": "SyntaxError",
     "evalue": "Block-scoped declarations (let, const, function, class) not yet supported outside strict mode",
     "output_type": "error",
     "traceback": [
      "SyntaxError: Block-scoped declarations (let, const, function, class) not yet supported outside strict mode",
      "    at Object.exports.runInThisContext (vm.js:53:16)",
      "    at run ([eval]:608:19)",
      "    at onRunRequest ([eval]:379:22)",
      "    at onMessage ([eval]:347:17)",
      "    at emitTwo (events.js:100:13)",
      "    at process.emit (events.js:185:7)",
      "    at handleMessage (internal/child_process.js:718:10)",
      "    at Pipe.channel.onread (internal/child_process.js:444:11)"
     ]
    }
   ],
   "source": [
    "console.log(sda)\n",
    "let sda=2"
   ]
  },
  {
   "cell_type": "code",
   "execution_count": 49,
   "metadata": {
    "collapsed": false
   },
   "outputs": [
    {
     "name": "stdout",
     "output_type": "stream",
     "text": [
      "undefined\n"
     ]
    },
    {
     "data": {
      "text/plain": [
       "undefined"
      ]
     },
     "execution_count": 49,
     "metadata": {},
     "output_type": "execute_result"
    }
   ],
   "source": [
    "console.log(sda1)\n",
    "var sda1=2"
   ]
  },
  {
   "cell_type": "code",
   "execution_count": 50,
   "metadata": {
    "collapsed": false
   },
   "outputs": [
    {
     "data": {
      "text/plain": [
       "2"
      ]
     },
     "execution_count": 50,
     "metadata": {},
     "output_type": "execute_result"
    }
   ],
   "source": [
    "sda1"
   ]
  },
  {
   "cell_type": "markdown",
   "metadata": {},
   "source": [
    "## how hoisting works\n",
    "explaination: \n",
    "console.log(sda1)\n",
    "var sda1=2\n",
    "\n",
    "this changes to \n",
    "\n",
    "var sda1\n",
    "console.log(sda1)\n",
    "sda1=2"
   ]
  },
  {
   "cell_type": "markdown",
   "metadata": {},
   "source": [
    "### You may encounter errors in switch statements because there is only one underlying block.\n",
    "\n",
    "this happens bcz two let statement has been defined inside a block('{} or brackets')...hence both are sharing common scope block..hence error is arising\n"
   ]
  },
  {
   "cell_type": "code",
   "execution_count": 52,
   "metadata": {
    "collapsed": false
   },
   "outputs": [
    {
     "ename": "SyntaxError",
     "evalue": "Identifier 'foo' has already been declared",
     "output_type": "error",
     "traceback": [
      "SyntaxError: Identifier 'foo' has already been declared",
      "    at Object.exports.runInThisContext (vm.js:53:16)",
      "    at run ([eval]:608:19)",
      "    at onRunRequest ([eval]:379:22)",
      "    at onMessage ([eval]:347:17)",
      "    at emitTwo (events.js:100:13)",
      "    at process.emit (events.js:185:7)",
      "    at handleMessage (internal/child_process.js:718:10)",
      "    at Pipe.channel.onread (internal/child_process.js:444:11)"
     ]
    }
   ],
   "source": [
    "'use strict'\n",
    "switch (x) {\n",
    "  case 0:\n",
    "    let foo;\n",
    "    break;\n",
    "    \n",
    "  case 1:\n",
    "    let foo; // SyntaxError for redeclaration.\n",
    "    break;\n",
    "}"
   ]
  },
  {
   "cell_type": "code",
   "execution_count": 54,
   "metadata": {
    "collapsed": false
   },
   "outputs": [
    {
     "ename": "ReferenceError",
     "evalue": "n is not defined",
     "output_type": "error",
     "traceback": [
      "ReferenceError: n is not defined",
      "    at go (evalmachine.<anonymous>:7:17)",
      "    at evalmachine.<anonymous>:12:1",
      "    at Object.exports.runInThisContext (vm.js:54:17)",
      "    at run ([eval]:608:19)",
      "    at onRunRequest ([eval]:379:22)",
      "    at onMessage ([eval]:347:17)",
      "    at emitTwo (events.js:100:13)",
      "    at process.emit (events.js:185:7)",
      "    at handleMessage (internal/child_process.js:718:10)",
      "    at Pipe.channel.onread (internal/child_process.js:444:11)"
     ]
    }
   ],
   "source": [
    "/*using let with a variable name that is the same as a parameter passed to a function will \n",
    "\n",
    "result in error inside a for loop.\n",
    "*/\n",
    "'use strict'\n",
    "function go(n){\n",
    "  for (let n of n.a) { // TypeError: n is undefined\n",
    "    console.log(n);\n",
    "  }\n",
    "}\n",
    "\n",
    "go({a:[1,2,3]});"
   ]
  },
  {
   "cell_type": "code",
   "execution_count": 58,
   "metadata": {
    "collapsed": false
   },
   "outputs": [
    {
     "name": "stdout",
     "output_type": "stream",
     "text": [
      "1\n",
      "2\n",
      "3\n"
     ]
    },
    {
     "data": {
      "text/plain": [
       "undefined"
      ]
     },
     "execution_count": 58,
     "metadata": {},
     "output_type": "execute_result"
    }
   ],
   "source": [
    "'use strict'\n",
    "function go(n1){\n",
    "  for (let n of n1.a) { // TypeError: n is undefined\n",
    "    console.log(n);\n",
    "  }\n",
    "}\n",
    "\n",
    "go({a:[1,2,3]});"
   ]
  },
  {
   "cell_type": "markdown",
   "metadata": {},
   "source": [
    "## constant"
   ]
  },
  {
   "cell_type": "markdown",
   "metadata": {},
   "source": [
    "Constants are block-scoped, much like variables defined using the let statement. The value of a constant cannot change through re-assignment, and it can't be redeclared. "
   ]
  },
  {
   "cell_type": "markdown",
   "metadata": {},
   "source": [
    "declaration creates a constant that can be either global or local to the function in which it is declared. An initializer for a constant is required; that is, you must specify its value in the same statement in which it's declared (which makes sense, given that it can't be changed later)."
   ]
  },
  {
   "cell_type": "code",
   "execution_count": 60,
   "metadata": {
    "collapsed": false
   },
   "outputs": [
    {
     "data": {
      "text/plain": [
       "undefined"
      ]
     },
     "execution_count": 60,
     "metadata": {},
     "output_type": "execute_result"
    }
   ],
   "source": [
    "const t=2"
   ]
  },
  {
   "cell_type": "code",
   "execution_count": 63,
   "metadata": {
    "collapsed": false
   },
   "outputs": [
    {
     "name": "stdout",
     "output_type": "stream",
     "text": [
      "2\n"
     ]
    },
    {
     "data": {
      "text/plain": [
       "undefined"
      ]
     },
     "execution_count": 63,
     "metadata": {},
     "output_type": "execute_result"
    }
   ],
   "source": [
    "function l(){\n",
    "console.log(t)\n",
    "}\n",
    "l()"
   ]
  },
  {
   "cell_type": "code",
   "execution_count": 67,
   "metadata": {
    "collapsed": false
   },
   "outputs": [
    {
     "data": {
      "text/plain": [
       "undefined"
      ]
     },
     "execution_count": 67,
     "metadata": {},
     "output_type": "execute_result"
    }
   ],
   "source": [
    "function k(){\n",
    "    const b=2\n",
    "}"
   ]
  },
  {
   "cell_type": "code",
   "execution_count": 68,
   "metadata": {
    "collapsed": false
   },
   "outputs": [
    {
     "data": {
      "text/plain": [
       "undefined"
      ]
     },
     "execution_count": 68,
     "metadata": {},
     "output_type": "execute_result"
    }
   ],
   "source": [
    "k()"
   ]
  },
  {
   "cell_type": "code",
   "execution_count": 69,
   "metadata": {
    "collapsed": false
   },
   "outputs": [
    {
     "ename": "ReferenceError",
     "evalue": "b is not defined",
     "output_type": "error",
     "traceback": [
      "ReferenceError: b is not defined",
      "    at evalmachine.<anonymous>:1:1",
      "    at Object.exports.runInThisContext (vm.js:54:17)",
      "    at run ([eval]:608:19)",
      "    at onRunRequest ([eval]:379:22)",
      "    at onMessage ([eval]:347:17)",
      "    at emitTwo (events.js:100:13)",
      "    at process.emit (events.js:185:7)",
      "    at handleMessage (internal/child_process.js:718:10)",
      "    at Pipe.channel.onread (internal/child_process.js:444:11)"
     ]
    }
   ],
   "source": [
    "b"
   ]
  },
  {
   "cell_type": "markdown",
   "metadata": {},
   "source": [
    "## constant works like var only"
   ]
  },
  {
   "cell_type": "markdown",
   "metadata": {},
   "source": [
    "## A variable declared using the var or let statement with no initial value specified has the value undefined."
   ]
  },
  {
   "cell_type": "markdown",
   "metadata": {},
   "source": [
    "## In boolean cotext\n",
    "The undefined value behaves as false when used in a boolean context\n",
    "## In numeric context\n",
    "The undefined value converts to NaN when used in numeric context."
   ]
  },
  {
   "cell_type": "code",
   "execution_count": 73,
   "metadata": {
    "collapsed": false
   },
   "outputs": [
    {
     "data": {
      "text/plain": [
       "NaN"
      ]
     },
     "execution_count": 73,
     "metadata": {},
     "output_type": "execute_result"
    }
   ],
   "source": [
    "//example\n",
    "var p;\n",
    "p + 2;"
   ]
  },
  {
   "cell_type": "code",
   "execution_count": 77,
   "metadata": {
    "collapsed": false
   },
   "outputs": [
    {
     "name": "stdout",
     "output_type": "stream",
     "text": [
      "NaN\n"
     ]
    },
    {
     "data": {
      "text/plain": [
       "undefined"
      ]
     },
     "execution_count": 77,
     "metadata": {},
     "output_type": "execute_result"
    }
   ],
   "source": [
    "var d,a\n",
    "a=d+2\n",
    "var a\n",
    "console.log(a)"
   ]
  },
  {
   "cell_type": "markdown",
   "metadata": {},
   "source": [
    "## know the null object\n",
    "When you evaluate a null variable, the null value behaves as 0 in numeric contexts and as false in boolean contexts"
   ]
  },
  {
   "cell_type": "code",
   "execution_count": 80,
   "metadata": {
    "collapsed": false
   },
   "outputs": [
    {
     "name": "stdout",
     "output_type": "stream",
     "text": [
      "0\n"
     ]
    },
    {
     "data": {
      "text/plain": [
       "undefined"
      ]
     },
     "execution_count": 80,
     "metadata": {},
     "output_type": "execute_result"
    }
   ],
   "source": [
    "var n = null;\n",
    "console.log(n * 32); // Will log 0 to the console"
   ]
  },
  {
   "cell_type": "markdown",
   "metadata": {},
   "source": [
    "## When you declare a variable outside of any function, it is called a global variable, because it is available to any other code in the current document. When you declare a variable within a function, it is called a local variable, because it is available only within that function.\n",
    "\n",
    "JavaScript before ECMAScript 2015 does not have block statement scope----> let statement in block got introduced; rather, a variable declared within a block is local to the function (or global scope) that the block resides within. For example the following code will log 5, because the scope of x is the function (or global context) within which x is declared, not the block, which in this case is an if statement."
   ]
  },
  {
   "cell_type": "code",
   "execution_count": 81,
   "metadata": {
    "collapsed": false
   },
   "outputs": [
    {
     "name": "stdout",
     "output_type": "stream",
     "text": [
      "5\n"
     ]
    },
    {
     "data": {
      "text/plain": [
       "undefined"
      ]
     },
     "execution_count": 81,
     "metadata": {},
     "output_type": "execute_result"
    }
   ],
   "source": [
    "if (true) {\n",
    "  var x = 5;\n",
    "}\n",
    "console.log(x);  // x is 5"
   ]
  },
  {
   "cell_type": "code",
   "execution_count": 85,
   "metadata": {
    "collapsed": false
   },
   "outputs": [
    {
     "ename": "ReferenceError",
     "evalue": "g is not defined",
     "output_type": "error",
     "traceback": [
      "ReferenceError: g is not defined",
      "    at evalmachine.<anonymous>:5:13",
      "    at Object.exports.runInThisContext (vm.js:54:17)",
      "    at run ([eval]:608:19)",
      "    at onRunRequest ([eval]:379:22)",
      "    at onMessage ([eval]:347:17)",
      "    at emitTwo (events.js:100:13)",
      "    at process.emit (events.js:185:7)",
      "    at handleMessage (internal/child_process.js:718:10)",
      "    at Pipe.channel.onread (internal/child_process.js:444:11)"
     ]
    }
   ],
   "source": [
    "'use strict'\n",
    "if (true) {\n",
    "  let g = 5;\n",
    "}\n",
    "console.log(g);  // ReferenceError: y is not defined\n"
   ]
  },
  {
   "cell_type": "markdown",
   "metadata": {},
   "source": [
    "## hoisting example"
   ]
  },
  {
   "cell_type": "code",
   "execution_count": 87,
   "metadata": {
    "collapsed": false
   },
   "outputs": [
    {
     "name": "stdout",
     "output_type": "stream",
     "text": [
      "true\n",
      "undefined\n"
     ]
    },
    {
     "data": {
      "text/plain": [
       "undefined"
      ]
     },
     "execution_count": 87,
     "metadata": {},
     "output_type": "execute_result"
    }
   ],
   "source": [
    "/**\n",
    " * Example 1\n",
    " */\n",
    "console.log(x4 === undefined); // true\n",
    "var x4 = 3;\n",
    "\n",
    "/**\n",
    " * Example 2\n",
    " */\n",
    "// will return a value of undefined\n",
    "var myvar = \"my value\";\n",
    " \n",
    "(function() {\n",
    "  console.log(myvar); // undefined\n",
    "  var myvar = \"local value\";\n",
    "})();"
   ]
  },
  {
   "cell_type": "raw",
   "metadata": {},
   "source": [
    "## explanation \n",
    "\n",
    "var x;\n",
    "console.log(x === undefined); // true\n",
    "x = 3;\n",
    " \n",
    "/**\n",
    " * Example 2\n",
    " */\n",
    "var myvar = \"my value\";\n",
    " \n",
    "(function() {\n",
    "\n",
    "  var myvar;\n",
    "  console.log(myvar); // undefined\n",
    "  myvar = \"local value\";\n",
    "  \n",
    "})();"
   ]
  },
  {
   "cell_type": "raw",
   "metadata": {},
   "source": [
    "\n",
    "In ECMAScript 2015, let (const) will not hoist the variable to the top of the block. However, referencing the variable in the block before the variable declaration results in a ReferenceError. The variable is in a \"temporal dead zone\" from the start of the block until the declaration is processed."
   ]
  },
  {
   "cell_type": "code",
   "execution_count": 89,
   "metadata": {
    "collapsed": false
   },
   "outputs": [
    {
     "ename": "ReferenceError",
     "evalue": "xt is not defined",
     "output_type": "error",
     "traceback": [
      "ReferenceError: xt is not defined",
      "    at evalmachine.<anonymous>:2:13",
      "    at Object.exports.runInThisContext (vm.js:54:17)",
      "    at run ([eval]:608:19)",
      "    at onRunRequest ([eval]:379:22)",
      "    at onMessage ([eval]:347:17)",
      "    at emitTwo (events.js:100:13)",
      "    at process.emit (events.js:185:7)",
      "    at handleMessage (internal/child_process.js:718:10)",
      "    at Pipe.channel.onread (internal/child_process.js:444:11)"
     ]
    }
   ],
   "source": [
    "'use strict'\n",
    "console.log(xt); // ReferenceError\n",
    "let xt = 3;"
   ]
  },
  {
   "cell_type": "raw",
   "metadata": {},
   "source": [
    "For functions, only function declaration gets hoisted to the top and not the function expression.\n",
    "\n",
    "foo(); // \"bar\"\n",
    "\n",
    "function foo() {\n",
    "  console.log(\"bar\");\n",
    "}\n",
    "\n",
    "/* Function expression */\n",
    "\n",
    "baz(); // TypeError: baz is not a function\n",
    "\n",
    "var baz = function() {\n",
    "  console.log(\"bar2\");\n",
    "};"
   ]
  },
  {
   "cell_type": "raw",
   "metadata": {},
   "source": [
    "Global variables\n",
    "\n",
    "Global variables are in fact properties of the global object. In web pages the global object is window, so you can set and access global variables using the window.variable syntax.\n",
    "\n",
    "Consequently, you can access global variables declared in one window or frame from another window or frame by specifying the window or frame name. For example, if a variable called phoneNumber is declared in a document, you can refer to this variable from an iframe as parent.phoneNumber."
   ]
  },
  {
   "cell_type": "code",
   "execution_count": 92,
   "metadata": {
    "collapsed": false
   },
   "outputs": [
    {
     "data": {
      "text/plain": [
       "undefined"
      ]
     },
     "execution_count": 92,
     "metadata": {},
     "output_type": "execute_result"
    }
   ],
   "source": [
    "var xc=2"
   ]
  },
  {
   "cell_type": "code",
   "execution_count": 94,
   "metadata": {
    "collapsed": false
   },
   "outputs": [
    {
     "ename": "ReferenceError",
     "evalue": "parent is not defined",
     "output_type": "error",
     "traceback": [
      "ReferenceError: parent is not defined",
      "    at evalmachine.<anonymous>:1:1",
      "    at Object.exports.runInThisContext (vm.js:54:17)",
      "    at run ([eval]:608:19)",
      "    at onRunRequest ([eval]:379:22)",
      "    at onMessage ([eval]:347:17)",
      "    at emitTwo (events.js:100:13)",
      "    at process.emit (events.js:185:7)",
      "    at handleMessage (internal/child_process.js:718:10)",
      "    at Pipe.channel.onread (internal/child_process.js:444:11)"
     ]
    }
   ],
   "source": [
    "parent.xc //prints 2 if ur using it on chrome (for dom elements it works)"
   ]
  },
  {
   "cell_type": "markdown",
   "metadata": {},
   "source": [
    "## constants"
   ]
  },
  {
   "cell_type": "raw",
   "metadata": {},
   "source": [
    "You can create a read-only, named constant with the const keyword. The syntax of a constant identifier is the same as for a variable identifier: it must start with a letter, underscore or dollar sign ($) and can contain alphabetic, numeric, or underscore characters.\n",
    "\n",
    "A constant cannot change value through assignment or be re-declared while the script is running. It has to be initialized to a value.\n",
    "The scope rules for constants are the same as those for let block scope variables. If the const keyword is omitted, the identifier is assumed to represent a variable."
   ]
  },
  {
   "cell_type": "code",
   "execution_count": 97,
   "metadata": {
    "collapsed": false
   },
   "outputs": [
    {
     "ename": "TypeError",
     "evalue": "Identifier 'f' has already been declared",
     "output_type": "error",
     "traceback": [
      "TypeError: Identifier 'f' has already been declared",
      "    at evalmachine.<anonymous>:1:1",
      "    at Object.exports.runInThisContext (vm.js:54:17)",
      "    at run ([eval]:608:19)",
      "    at onRunRequest ([eval]:379:22)",
      "    at onMessage ([eval]:347:17)",
      "    at emitTwo (events.js:100:13)",
      "    at process.emit (events.js:185:7)",
      "    at handleMessage (internal/child_process.js:718:10)",
      "    at Pipe.channel.onread (internal/child_process.js:444:11)"
     ]
    }
   ],
   "source": [
    "function f() {};\n",
    "const f = 5;\n",
    "\n",
    "// THIS WILL CAUSE AN ERROR ALSO\n",
    "function f() {\n",
    "  const g = 5;\n",
    "  var g;\n",
    "\n",
    "  //statements\n",
    "}"
   ]
  },
  {
   "cell_type": "raw",
   "metadata": {},
   "source": [
    "However, the properties of objects assigned to constants are not protected, so the following statement is executed without problems."
   ]
  },
  {
   "cell_type": "code",
   "execution_count": 98,
   "metadata": {
    "collapsed": false
   },
   "outputs": [
    {
     "data": {
      "text/plain": [
       "'otherValue'"
      ]
     },
     "execution_count": 98,
     "metadata": {},
     "output_type": "execute_result"
    }
   ],
   "source": [
    "const MY_OBJECT = {\"key\": \"value\"};\n",
    "MY_OBJECT.key = \"otherValue\";\n"
   ]
  },
  {
   "cell_type": "code",
   "execution_count": 99,
   "metadata": {
    "collapsed": false
   },
   "outputs": [
    {
     "data": {
      "text/plain": [
       "{ key: 'otherValue' }"
      ]
     },
     "execution_count": 99,
     "metadata": {},
     "output_type": "execute_result"
    }
   ],
   "source": [
    "MY_OBJECT"
   ]
  },
  {
   "cell_type": "markdown",
   "metadata": {},
   "source": [
    "## Data structures and types"
   ]
  },
  {
   "cell_type": "raw",
   "metadata": {},
   "source": [
    "primitive data types\n",
    "Six data types that are primitives:\n",
    "Boolean->true and false.\n",
    "null->A special keyword denoting a null value. Because JavaScript is case-sensitive, null is not the same as Null, NULL, or any other variant.\n",
    "undefined->A top-level property whose value is undefined.\n",
    "Number->42 or 3.14159.\n",
    "String->\"Howdy\"\n",
    "Symbol ->(new in ECMAScript 2015). A data type whose instances are unique and immutable.\n",
    "and \n",
    "Object\n"
   ]
  },
  {
   "cell_type": "raw",
   "metadata": {},
   "source": [
    "JavaScript is a dynamically typed language. That means you don't have to specify the data type of a variable when you declare it, and data types are converted automatically as needed during script execution"
   ]
  },
  {
   "cell_type": "code",
   "execution_count": 101,
   "metadata": {
    "collapsed": false
   },
   "outputs": [
    {
     "data": {
      "text/plain": [
       "'sda'"
      ]
     },
     "execution_count": 101,
     "metadata": {},
     "output_type": "execute_result"
    }
   ],
   "source": [
    "var answer = 42; //type number\n",
    "answer=\"sda\" //type string "
   ]
  },
  {
   "cell_type": "code",
   "execution_count": 103,
   "metadata": {
    "collapsed": false
   },
   "outputs": [
    {
     "data": {
      "text/plain": [
       "30"
      ]
     },
     "execution_count": 103,
     "metadata": {},
     "output_type": "execute_result"
    }
   ],
   "source": [
    "\"37\" - 7 // 30"
   ]
  },
  {
   "cell_type": "code",
   "execution_count": 105,
   "metadata": {
    "collapsed": false
   },
   "outputs": [
    {
     "data": {
      "text/plain": [
       "'377'"
      ]
     },
     "execution_count": 105,
     "metadata": {},
     "output_type": "execute_result"
    }
   ],
   "source": [
    "\"37\" + 7 // \"377\""
   ]
  },
  {
   "cell_type": "code",
   "execution_count": 106,
   "metadata": {
    "collapsed": false
   },
   "outputs": [
    {
     "data": {
      "text/plain": [
       "'42 is the answer'"
      ]
     },
     "execution_count": 106,
     "metadata": {},
     "output_type": "execute_result"
    }
   ],
   "source": [
    "y = 42 + \" is the answer\""
   ]
  },
  {
   "cell_type": "code",
   "execution_count": 107,
   "metadata": {
    "collapsed": false
   },
   "outputs": [
    {
     "data": {
      "text/plain": [
       "NaN"
      ]
     },
     "execution_count": 107,
     "metadata": {},
     "output_type": "execute_result"
    }
   ],
   "source": [
    "y-2"
   ]
  },
  {
   "cell_type": "raw",
   "metadata": {},
   "source": [
    "In the case that a value representing a number is in memory as a string, there are methods for conversion."
   ]
  },
  {
   "cell_type": "code",
   "execution_count": 111,
   "metadata": {
    "collapsed": false
   },
   "outputs": [
    {
     "data": {
      "text/plain": [
       "undefined"
      ]
     },
     "execution_count": 111,
     "metadata": {},
     "output_type": "execute_result"
    }
   ],
   "source": [
    "var a=\"1.1\" + \"1.1\""
   ]
  },
  {
   "cell_type": "code",
   "execution_count": 112,
   "metadata": {
    "collapsed": false
   },
   "outputs": [
    {
     "data": {
      "text/plain": [
       "'1.11.1'"
      ]
     },
     "execution_count": 112,
     "metadata": {},
     "output_type": "execute_result"
    }
   ],
   "source": [
    "a"
   ]
  },
  {
   "cell_type": "code",
   "execution_count": 113,
   "metadata": {
    "collapsed": false
   },
   "outputs": [
    {
     "data": {
      "text/plain": [
       "1"
      ]
     },
     "execution_count": 113,
     "metadata": {},
     "output_type": "execute_result"
    }
   ],
   "source": [
    "parseInt(a)"
   ]
  },
  {
   "cell_type": "code",
   "execution_count": 116,
   "metadata": {
    "collapsed": false
   },
   "outputs": [
    {
     "data": {
      "text/plain": [
       "2.2"
      ]
     },
     "execution_count": 116,
     "metadata": {},
     "output_type": "execute_result"
    }
   ],
   "source": [
    "//here is the magic\n",
    "(+\"1.1\") + (+\"1.1\")"
   ]
  },
  {
   "cell_type": "raw",
   "metadata": {},
   "source": [
    "The parseInt() function parses a string argument and returns an integer of the specified radix (the base in mathematical numeral systems).\n",
    "An integer number parsed from the given string. If the first character cannot be converted to a number, NaN is returned.\n",
    "\n",
    "parseFloat parses its argument, a string, and returns a floating point number. If it encounters a character other than a sign (+ or -), numeral (0-9), a decimal point, or an exponent, it returns the value up to that point and ignores that character and all succeeding characters. Leading and trailing spaces are allowed."
   ]
  },
  {
   "cell_type": "code",
   "execution_count": 119,
   "metadata": {
    "collapsed": false
   },
   "outputs": [
    {
     "data": {
      "text/plain": [
       "undefined"
      ]
     },
     "execution_count": 119,
     "metadata": {},
     "output_type": "execute_result"
    }
   ],
   "source": [
    "// later a liile light on parseInt"
   ]
  },
  {
   "cell_type": "raw",
   "metadata": {},
   "source": [
    "literals\n",
    "\n",
    "You use literals to represent values in JavaScript. These are fixed values, not variables, that you literally provide in your script. "
   ]
  },
  {
   "cell_type": "markdown",
   "metadata": {},
   "source": [
    "## array literals"
   ]
  },
  {
   "cell_type": "raw",
   "metadata": {},
   "source": [
    "An array literal is a list of zero or more expressions, each of which represents an array element, enclosed in square brackets ([])."
   ]
  },
  {
   "cell_type": "code",
   "execution_count": 123,
   "metadata": {
    "collapsed": false
   },
   "outputs": [
    {
     "name": "stdout",
     "output_type": "stream",
     "text": [
      "2\n"
     ]
    },
    {
     "data": {
      "text/plain": [
       "[ 5, undefined, [Function] ]"
      ]
     },
     "execution_count": 123,
     "metadata": {},
     "output_type": "execute_result"
    }
   ],
   "source": [
    "[2+3,console.log(2),function(){console.log(2)}]"
   ]
  },
  {
   "cell_type": "markdown",
   "metadata": {},
   "source": [
    "You do not have to specify all elements in an array literal. If you put two commas in a row, the array is created with undefined for the unspecified elements. The following example creates the fish array:"
   ]
  },
  {
   "cell_type": "code",
   "execution_count": 126,
   "metadata": {
    "collapsed": false
   },
   "outputs": [
    {
     "data": {
      "text/plain": [
       "undefined"
      ]
     },
     "execution_count": 126,
     "metadata": {},
     "output_type": "execute_result"
    }
   ],
   "source": [
    "var arr=[2,,,3]"
   ]
  },
  {
   "cell_type": "code",
   "execution_count": 127,
   "metadata": {
    "collapsed": false
   },
   "outputs": [
    {
     "data": {
      "text/plain": [
       "undefined"
      ]
     },
     "execution_count": 127,
     "metadata": {},
     "output_type": "execute_result"
    }
   ],
   "source": [
    "arr[2]"
   ]
  },
  {
   "cell_type": "markdown",
   "metadata": {},
   "source": [
    " the length of the array is four, and myList[1] and myList[3] are missing. Only the last comma is ignored."
   ]
  },
  {
   "cell_type": "code",
   "execution_count": 128,
   "metadata": {
    "collapsed": false
   },
   "outputs": [
    {
     "data": {
      "text/plain": [
       "undefined"
      ]
     },
     "execution_count": 128,
     "metadata": {},
     "output_type": "execute_result"
    }
   ],
   "source": [
    "var myList = ['home', , 'school', , ];"
   ]
  },
  {
   "cell_type": "code",
   "execution_count": 129,
   "metadata": {
    "collapsed": false
   },
   "outputs": [
    {
     "data": {
      "text/plain": [
       "4"
      ]
     },
     "execution_count": 129,
     "metadata": {},
     "output_type": "execute_result"
    }
   ],
   "source": [
    "myList.length"
   ]
  },
  {
   "cell_type": "markdown",
   "metadata": {},
   "source": [
    "Boolean literals\n",
    "\n",
    "The Boolean type has two literal values: true and false.\n",
    "Do not confuse the primitive Boolean values true and false with the true and false values of the Boolean object. The Boolean object is a wrapper around the primitive Boolean data type.\n",
    "\n",
    "Integers can be expressed in decimal (base 10), hexadecimal (base 16), octal (base 8) and binary (base 2).\n",
    "\n",
    "\n",
    "Floating-point literals\n",
    "\n",
    "A floating-point literal can have the following parts:\n",
    "\n",
    "A decimal integer which can be signed (preceded by \"+\" or \"-\"),\n",
    "A decimal point (\".\"),\n",
    "A fraction (another decimal number),\n",
    "An exponent.\n",
    "\n",
    "\n",
    "Object literals\n",
    "\n",
    "An object literal is a list of zero or more pairs of property names and associated values of an object, enclosed in curly braces ({}). You should not use an object literal at the beginning of a statement. This will lead to an error or not behave as you expect, because the { will be interpreted as the beginning of a block.\n",
    "\n"
   ]
  },
  {
   "cell_type": "code",
   "execution_count": 133,
   "metadata": {
    "collapsed": false
   },
   "outputs": [
    {
     "name": "stdout",
     "output_type": "stream",
     "text": [
      "Saturn\n",
      "Honda\n",
      "Toyota\n"
     ]
    },
    {
     "data": {
      "text/plain": [
       "undefined"
      ]
     },
     "execution_count": 133,
     "metadata": {},
     "output_type": "execute_result"
    }
   ],
   "source": [
    "\n",
    "var sales = \"Toyota\";\n",
    "\n",
    "function carTypes(name) {\n",
    "  if (name === \"Honda\") {\n",
    "    return name;\n",
    "  } else {\n",
    "    return \"Sorry, we don't sell \" + name + \".\";\n",
    "  }\n",
    "}\n",
    "\n",
    "var car = { myCar: \"Saturn\", getCar: carTypes(\"Honda\"), special: sales };\n",
    "\n",
    "console.log(car.myCar);   // Saturn\n",
    "console.log(car.getCar);  // Honda\n",
    "console.log(car.special); // Toyota"
   ]
  },
  {
   "cell_type": "markdown",
   "metadata": {},
   "source": [
    "Object property names can be any string, including the empty string. If the property name would not be a valid JavaScript identifier or number, it must be enclosed in quotes. Property names that are not valid identifiers also cannot be accessed as a dot (.) property, but can be accessed and set with the array-like notation(\"[]\").\n"
   ]
  },
  {
   "cell_type": "code",
   "execution_count": 136,
   "metadata": {
    "collapsed": false
   },
   "outputs": [
    {
     "data": {
      "text/plain": [
       "undefined"
      ]
     },
     "execution_count": 136,
     "metadata": {},
     "output_type": "execute_result"
    }
   ],
   "source": [
    "var unusualPropertyNames = {\n",
    "  \"\": \"An empty string\",\n",
    "  \"!\": \"Bang!\"\n",
    "}"
   ]
  },
  {
   "cell_type": "code",
   "execution_count": 138,
   "metadata": {
    "collapsed": false
   },
   "outputs": [
    {
     "ename": "SyntaxError",
     "evalue": "Unexpected string",
     "output_type": "error",
     "traceback": [
      "SyntaxError: Unexpected string",
      "    at Object.exports.runInThisContext (vm.js:53:16)",
      "    at run ([eval]:608:19)",
      "    at onRunRequest ([eval]:379:22)",
      "    at onMessage ([eval]:347:17)",
      "    at emitTwo (events.js:100:13)",
      "    at process.emit (events.js:185:7)",
      "    at handleMessage (internal/child_process.js:718:10)",
      "    at Pipe.channel.onread (internal/child_process.js:444:11)"
     ]
    }
   ],
   "source": [
    "console.log(unusualPropertyNames.\"\");   // SyntaxError: Unexpected string\n"
   ]
  },
  {
   "cell_type": "code",
   "execution_count": 140,
   "metadata": {
    "collapsed": false
   },
   "outputs": [
    {
     "name": "stdout",
     "output_type": "stream",
     "text": [
      "An empty string\n"
     ]
    },
    {
     "data": {
      "text/plain": [
       "undefined"
      ]
     },
     "execution_count": 140,
     "metadata": {},
     "output_type": "execute_result"
    }
   ],
   "source": [
    "console.log(unusualPropertyNames[\"\"]);  // An empty string"
   ]
  },
  {
   "cell_type": "code",
   "execution_count": 142,
   "metadata": {
    "collapsed": false
   },
   "outputs": [
    {
     "ename": "SyntaxError",
     "evalue": "Unexpected token !",
     "output_type": "error",
     "traceback": [
      "SyntaxError: Unexpected token !",
      "    at Object.exports.runInThisContext (vm.js:53:16)",
      "    at run ([eval]:608:19)",
      "    at onRunRequest ([eval]:379:22)",
      "    at onMessage ([eval]:347:17)",
      "    at emitTwo (events.js:100:13)",
      "    at process.emit (events.js:185:7)",
      "    at handleMessage (internal/child_process.js:718:10)",
      "    at Pipe.channel.onread (internal/child_process.js:444:11)"
     ]
    }
   ],
   "source": [
    "console.log(unusualPropertyNames.!);    // SyntaxError: Unexpected token !"
   ]
  },
  {
   "cell_type": "code",
   "execution_count": 143,
   "metadata": {
    "collapsed": false
   },
   "outputs": [
    {
     "name": "stdout",
     "output_type": "stream",
     "text": [
      "Bang!\n"
     ]
    },
    {
     "data": {
      "text/plain": [
       "undefined"
      ]
     },
     "execution_count": 143,
     "metadata": {},
     "output_type": "execute_result"
    }
   ],
   "source": [
    "console.log(unusualPropertyNames[\"!\"]);"
   ]
  },
  {
   "cell_type": "markdown",
   "metadata": {},
   "source": [
    "In ES2015, object literals are extended to support setting the prototype at construction, shorthand for foo: foo assignments, defining methods, making super calls, and computing property names with expressions. Together, these also bring object literals and class declarations closer together, and let object-based design benefit from some of the same conveniences."
   ]
  },
  {
   "cell_type": "code",
   "execution_count": 145,
   "metadata": {
    "collapsed": false
   },
   "outputs": [
    {
     "ename": "ReferenceError",
     "evalue": "theProtoObj is not defined",
     "output_type": "error",
     "traceback": [
      "ReferenceError: theProtoObj is not defined",
      "    at evalmachine.<anonymous>:3:16",
      "    at Object.exports.runInThisContext (vm.js:54:17)",
      "    at run ([eval]:608:19)",
      "    at onRunRequest ([eval]:379:22)",
      "    at onMessage ([eval]:347:17)",
      "    at emitTwo (events.js:100:13)",
      "    at process.emit (events.js:185:7)",
      "    at handleMessage (internal/child_process.js:718:10)",
      "    at Pipe.channel.onread (internal/child_process.js:444:11)"
     ]
    }
   ],
   "source": [
    "var obj = {\n",
    "    // __proto__\n",
    "    __proto__: theProtoObj,\n",
    "    // Shorthand for ‘handler: handler’\n",
    "    handler,\n",
    "    // Methods\n",
    "    toString() {\n",
    "     // Super calls\n",
    "     return \"d \" + super.toString();\n",
    "    },\n",
    "    // Computed (dynamic) property names\n",
    "    [ 'prop_' + (() => 42)() ]: 42\n",
    "};"
   ]
  },
  {
   "cell_type": "code",
   "execution_count": 146,
   "metadata": {
    "collapsed": false
   },
   "outputs": [
    {
     "name": "stdout",
     "output_type": "stream",
     "text": [
      "alpha\n",
      "two\n",
      "alpha\n",
      "two\n"
     ]
    },
    {
     "data": {
      "text/plain": [
       "undefined"
      ]
     },
     "execution_count": 146,
     "metadata": {},
     "output_type": "execute_result"
    }
   ],
   "source": [
    "var foo = {a: \"alpha\", 2: \"two\"};\n",
    "console.log(foo.a);    // alpha\n",
    "console.log(foo[2]);   // two\n",
    "//console.log(foo.2);  // Error: missing ) after argument list\n",
    "//console.log(foo[a]); // Error: a is not defined\n",
    "console.log(foo[\"a\"]); // alpha\n",
    "console.log(foo[\"2\"]); // two"
   ]
  },
  {
   "cell_type": "markdown",
   "metadata": {},
   "source": [
    "## RegExp literals\n",
    "\n",
    "A regex literal is a pattern enclosed between slashes. The following is an example of an regex literal.\n",
    "\n",
    "var re = /ab+c/;"
   ]
  },
  {
   "cell_type": "code",
   "execution_count": 152,
   "metadata": {
    "collapsed": false
   },
   "outputs": [
    {
     "data": {
      "text/plain": [
       "'Hello Bob, how are you today?'"
      ]
     },
     "execution_count": 152,
     "metadata": {},
     "output_type": "execute_result"
    }
   ],
   "source": [
    "// String interpolation\n",
    "var name = \"Bob\", time = \"today\";\n",
    "`Hello ${name}, how are you ${time}?`\n"
   ]
  },
  {
   "cell_type": "code",
   "execution_count": 153,
   "metadata": {
    "collapsed": false
   },
   "outputs": [
    {
     "data": {
      "text/plain": [
       "'In JavaScript template strings can run\\n over multiple lines, but double and single\\n quoted strings cannot.'"
      ]
     },
     "execution_count": 153,
     "metadata": {},
     "output_type": "execute_result"
    }
   ],
   "source": [
    "`In JavaScript template strings can run\n",
    " over multiple lines, but double and single\n",
    " quoted strings cannot.`"
   ]
  },
  {
   "cell_type": "code",
   "execution_count": 154,
   "metadata": {
    "collapsed": false
   },
   "outputs": [
    {
     "data": {
      "text/plain": [
       "'In JavaScript \\'\\n\\' is a line-feed.'"
      ]
     },
     "execution_count": 154,
     "metadata": {},
     "output_type": "execute_result"
    }
   ],
   "source": [
    "`In JavaScript '\\n' is a line-feed.`\n"
   ]
  },
  {
   "cell_type": "markdown",
   "metadata": {},
   "source": [
    "## Control flow and error handling"
   ]
  },
  {
   "cell_type": "markdown",
   "metadata": {},
   "source": [
    "Block statementEDIT\n",
    "The most basic statement is a block statement that is used to group statements. The block is delimited by a pair of curly brackets:"
   ]
  },
  {
   "cell_type": "code",
   "execution_count": 157,
   "metadata": {
    "collapsed": false
   },
   "outputs": [
    {
     "data": {
      "text/plain": [
       "undefined"
      ]
     },
     "execution_count": 157,
     "metadata": {},
     "output_type": "execute_result"
    }
   ],
   "source": [
    "while (x < 10) {\n",
    "  x++;\n",
    "}"
   ]
  },
  {
   "cell_type": "markdown",
   "metadata": {},
   "source": [
    "block statements do not define a scope. \"Standalone\" blocks in JavaScript can produce completely different results from what they would produce in C or Java."
   ]
  },
  {
   "cell_type": "code",
   "execution_count": 158,
   "metadata": {
    "collapsed": false
   },
   "outputs": [
    {
     "name": "stdout",
     "output_type": "stream",
     "text": [
      "2\n"
     ]
    },
    {
     "data": {
      "text/plain": [
       "undefined"
      ]
     },
     "execution_count": 158,
     "metadata": {},
     "output_type": "execute_result"
    }
   ],
   "source": [
    "var x = 1;\n",
    "{\n",
    "  var x = 2;\n",
    "}\n",
    "console.log(x); // outputs 2"
   ]
  },
  {
   "cell_type": "markdown",
   "metadata": {},
   "source": [
    "This outputs 2 because the var x statement within the block is in the same scope as the var x statement before the block. In C or Java, the equivalent code would have outputted 1."
   ]
  },
  {
   "cell_type": "code",
   "execution_count": 159,
   "metadata": {
    "collapsed": false
   },
   "outputs": [
    {
     "data": {
      "text/plain": [
       "undefined"
      ]
     },
     "execution_count": 159,
     "metadata": {},
     "output_type": "execute_result"
    }
   ],
   "source": [
    "var r=2\n"
   ]
  },
  {
   "cell_type": "code",
   "execution_count": 160,
   "metadata": {
    "collapsed": false
   },
   "outputs": [
    {
     "data": {
      "text/plain": [
       "2"
      ]
     },
     "execution_count": 160,
     "metadata": {},
     "output_type": "execute_result"
    }
   ],
   "source": [
    "r"
   ]
  },
  {
   "cell_type": "code",
   "execution_count": 161,
   "metadata": {
    "collapsed": false
   },
   "outputs": [
    {
     "data": {
      "text/plain": [
       "undefined"
      ]
     },
     "execution_count": 161,
     "metadata": {},
     "output_type": "execute_result"
    }
   ],
   "source": [
    "var r"
   ]
  },
  {
   "cell_type": "code",
   "execution_count": 162,
   "metadata": {
    "collapsed": false
   },
   "outputs": [
    {
     "data": {
      "text/plain": [
       "2"
      ]
     },
     "execution_count": 162,
     "metadata": {},
     "output_type": "execute_result"
    }
   ],
   "source": [
    "r"
   ]
  },
  {
   "cell_type": "code",
   "execution_count": 1,
   "metadata": {
    "collapsed": false
   },
   "outputs": [
    {
     "data": {
      "text/plain": [
       "'c:\\\\temp'"
      ]
     },
     "execution_count": 1,
     "metadata": {},
     "output_type": "execute_result"
    }
   ],
   "source": [
    "\"c:\\\\temp\";"
   ]
  },
  {
   "cell_type": "code",
   "execution_count": 2,
   "metadata": {
    "collapsed": false
   },
   "outputs": [
    {
     "name": "stdout",
     "output_type": "stream",
     "text": [
      "this string is broken across multiplelines.\n"
     ]
    },
    {
     "data": {
      "text/plain": [
       "undefined"
      ]
     },
     "execution_count": 2,
     "metadata": {},
     "output_type": "execute_result"
    }
   ],
   "source": [
    "var str = \"this string \\\n",
    "is broken \\\n",
    "across multiple\\\n",
    "lines.\"\n",
    "console.log(str);"
   ]
  },
  {
   "cell_type": "code",
   "execution_count": 3,
   "metadata": {
    "collapsed": false
   },
   "outputs": [
    {
     "data": {
      "text/plain": [
       "undefined"
      ]
     },
     "execution_count": 3,
     "metadata": {},
     "output_type": "execute_result"
    }
   ],
   "source": [
    "var poem = \n",
    "\"Roses are red,\\n\\\n",
    "Violets are blue.\\n\\\n",
    "Sugar is sweet,\\n\\\n",
    "and so is foo.\"\n"
   ]
  },
  {
   "cell_type": "code",
   "execution_count": 4,
   "metadata": {
    "collapsed": false
   },
   "outputs": [
    {
     "data": {
      "text/plain": [
       "'Roses are red,\\nViolets are blue.\\nSugar is sweet,\\nand so is foo.'"
      ]
     },
     "execution_count": 4,
     "metadata": {},
     "output_type": "execute_result"
    }
   ],
   "source": [
    "poem"
   ]
  },
  {
   "cell_type": "markdown",
   "metadata": {},
   "source": [
    "Conditional statements\n",
    "\n",
    "A conditional statement is a set of commands that executes if a specified condition is true. \n",
    "\n",
    "Use the if statement to execute a statement if a logical condition is true. Use the optional else clause to execute a statement if the condition is false. \n",
    "\n",
    "In the case of multiple conditions only the first logical condition which evaluates to true will be executed. To execute multiple statements, group them within a block statement ({ ... }) .\n",
    "it's good practice to always use block statements, especially when nesting if statements:\n",
    "\n",
    "If you need to use an assignment in a conditional expression, a common practice is to put additional parentheses around the assignment. For example:\n",
    "\n",
    "if ((x = y)) {\n",
    "  /* statements here */\n",
    "}"
   ]
  },
  {
   "cell_type": "code",
   "execution_count": 8,
   "metadata": {
    "collapsed": false
   },
   "outputs": [
    {
     "data": {
      "text/plain": [
       "3"
      ]
     },
     "execution_count": 8,
     "metadata": {},
     "output_type": "execute_result"
    }
   ],
   "source": [
    "y=3\n",
    "if (y==(x = 2)) {\n",
    "  console.log(x)\n",
    "}"
   ]
  },
  {
   "cell_type": "code",
   "execution_count": 9,
   "metadata": {
    "collapsed": false
   },
   "outputs": [
    {
     "name": "stdout",
     "output_type": "stream",
     "text": [
      "2\n"
     ]
    },
    {
     "data": {
      "text/plain": [
       "undefined"
      ]
     },
     "execution_count": 9,
     "metadata": {},
     "output_type": "execute_result"
    }
   ],
   "source": [
    "if ((x = 2)) {\n",
    " console.log(x)\n",
    "}"
   ]
  },
  {
   "cell_type": "raw",
   "metadata": {},
   "source": [
    "Falsy values\n",
    "\n",
    "The following values evaluate to false (also known as Falsy values):\n",
    "\n",
    "false\n",
    "undefined \n",
    "null\n",
    "0\n",
    "NaN\n",
    "the empty string (\"\")\n",
    "\n",
    "\n",
    "important\n",
    "\n",
    "Do not confuse the primitive boolean values true and false with the true and false values of the Boolean object. \n",
    "\n",
    "var b = new Boolean(false);\n",
    "if (b) // this condition evaluates to true\n",
    "if (b == true) // this condition evaluates to false"
   ]
  },
  {
   "cell_type": "raw",
   "metadata": {},
   "source": [
    "A switch statement allows a program to evaluate an expression and attempt to match the expression's value to a case label\n",
    "\n",
    "The program first looks for a case clause with a label matching the value of expression and then transfers control to that clause, executing the associated statements. If no matching label is found, the program looks for the optional default clause, and if found, transfers control to that clause, executing the associated statements\n",
    "\n",
    " If no default clause is found, the program continues execution at the statement following the end of switch."
   ]
  },
  {
   "cell_type": "markdown",
   "metadata": {},
   "source": [
    "## Exception handling statements\n",
    "\n",
    "Use the throw statement to throw an exception."
   ]
  },
  {
   "cell_type": "code",
   "execution_count": 1,
   "metadata": {
    "collapsed": false
   },
   "outputs": [
    {
     "data": {
      "text/plain": [
       "undefined"
      ]
     },
     "execution_count": 1,
     "metadata": {},
     "output_type": "execute_result"
    }
   ],
   "source": [
    "var a=3"
   ]
  },
  {
   "cell_type": "code",
   "execution_count": 3,
   "metadata": {
    "collapsed": false
   },
   "outputs": [
    {
     "data": {
      "text/plain": [
       "3"
      ]
     },
     "execution_count": 3,
     "metadata": {},
     "output_type": "execute_result"
    }
   ],
   "source": [
    "a"
   ]
  },
  {
   "cell_type": "code",
   "execution_count": 4,
   "metadata": {
    "collapsed": false
   },
   "outputs": [
    {
     "ename": "UserException",
     "evalue": "Value too high",
     "output_type": "error",
     "traceback": ""
    }
   ],
   "source": [
    "function UserException(message) {\n",
    "  this.message = message;\n",
    "  this.name = \"UserException\";\n",
    "}\n",
    "\n",
    "// Make the exception convert to a pretty string when used as a string \n",
    "// (e.g. by the error console)\n",
    "UserException.prototype.toString = function() {\n",
    "  return this.name + ': \"' + this.message + '\"';\n",
    "}\n",
    "\n",
    "// Create an instance of the object type and throw it\n",
    "throw new UserException(\"Value too high\");"
   ]
  },
  {
   "cell_type": "markdown",
   "metadata": {},
   "source": [
    "## try-catch\n",
    "If any statement within the try block (or in a function called from within the try block) throws an exception, control immediately shifts to the catch block. If no exception is thrown in the try block, the catch block is skipped. The finally block executes after the try and catch blocks execute but before the statements following the try...catch statement.\n"
   ]
  },
  {
   "cell_type": "code",
   "execution_count": 8,
   "metadata": {
    "collapsed": false
   },
   "outputs": [
    {
     "name": "stdout",
     "output_type": "stream",
     "text": [
      ">>InvalidMonthNo\n"
     ]
    },
    {
     "data": {
      "text/plain": [
       "undefined"
      ]
     },
     "execution_count": 8,
     "metadata": {},
     "output_type": "execute_result"
    }
   ],
   "source": [
    "function getMonthName(mo) {\n",
    "  mo = mo - 1; // Adjust month number for array index (1 = Jan, 12 = Dec)\n",
    "  var months = [\"Jan\",\"Feb\",\"Mar\",\"Apr\",\"May\",\"Jun\",\"Jul\",\n",
    "                \"Aug\",\"Sep\",\"Oct\",\"Nov\",\"Dec\"];\n",
    "  if (months[mo]) {\n",
    "    return months[mo];\n",
    "  } else {\n",
    "    throw \"InvalidMonthNo\"; //throw keyword is used here\n",
    "  }\n",
    "}\n",
    "\n",
    "try { // statements to try\n",
    "  monthName = getMonthName(13); // function could throw exception\n",
    "}\n",
    "catch (e) {\n",
    "  monthName = \"unknown\";\n",
    "  console.log('>>'+e); // pass exception object to error handler -> your own function\n",
    "}"
   ]
  },
  {
   "cell_type": "raw",
   "metadata": {},
   "source": [
    "catch (catchID) {\n",
    "  statements\n",
    "}\n",
    "The catch block specifies an identifier (catchID in the preceding syntax) that holds the value specified by the throw statement; you can use this identifier to get information about the exception that was thrown. JavaScript creates this identifier when the catch block is entered; the identifier lasts only for the duration of the catch block; after the catch block finishes executing, the identifier is no longer available."
   ]
  },
  {
   "cell_type": "code",
   "execution_count": 9,
   "metadata": {
    "collapsed": false
   },
   "outputs": [
    {
     "name": "stdout",
     "output_type": "stream",
     "text": [
      "myException\n"
     ]
    },
    {
     "data": {
      "text/plain": [
       "undefined"
      ]
     },
     "execution_count": 9,
     "metadata": {},
     "output_type": "execute_result"
    }
   ],
   "source": [
    "try {\n",
    "  throw \"myException\"; // generates an exception\n",
    "}\n",
    "catch (e) {\n",
    "  // statements to handle any exceptions\n",
    "  console.log(e); // pass exception object to error handler\n",
    "}\n"
   ]
  },
  {
   "cell_type": "markdown",
   "metadata": {},
   "source": [
    "## the finally block\n",
    "\n",
    "The finally block contains statements to execute after the try and catch blocks execute but before the statements following the try...catch statement. The finally block executes whether or not an exception is thrown. If an exception is thrown, the statements in the finally block execute even if no catch block handles the exception.\n",
    "\n",
    "You can use the finally block to make your script fail gracefully when an exception occurs; for example, you may need to release a resource that your script has tied up. The following example opens a file and then executes statements that use the file (server-side JavaScript allows you to access files). If an exception is thrown while the file is open, the finally block closes the file before the script fails.\n",
    "\n",
    "\n",
    "If the finally block returns a value, this value becomes the return value of the entire try-catch-finally production, regardless of any return statements in the try and catch blocks:\n",
    "\n"
   ]
  },
  {
   "cell_type": "code",
   "execution_count": 10,
   "metadata": {
    "collapsed": false
   },
   "outputs": [
    {
     "name": "stdout",
     "output_type": "stream",
     "text": [
      "0\n",
      "1\n",
      "3\n"
     ]
    },
    {
     "data": {
      "text/plain": [
       "false"
      ]
     },
     "execution_count": 10,
     "metadata": {},
     "output_type": "execute_result"
    }
   ],
   "source": [
    "function f() {\n",
    "  try {\n",
    "    console.log(0);\n",
    "    throw \"bogus\";\n",
    "  } catch(e) {\n",
    "    console.log(1);\n",
    "    return true; // this return statement is suspended\n",
    "                 // until finally block has completed\n",
    "    console.log(2); // not reachable\n",
    "  } finally {\n",
    "    console.log(3);\n",
    "    return false; // overwrites the previous \"return\"\n",
    "    console.log(4); // not reachable\n",
    "  }\n",
    "  // \"return false\" is executed now  \n",
    "  console.log(5); // not reachable\n",
    "}\n",
    "f();"
   ]
  },
  {
   "cell_type": "markdown",
   "metadata": {},
   "source": [
    "## we can see in the above example that the return statement of function doesnt return any value but skips execution of statement  after that in that block and goes to the finally block and then returns the value\n",
    "\n",
    "any throw and return value will be suspended unless the finally block is not completed"
   ]
  },
  {
   "cell_type": "code",
   "execution_count": 12,
   "metadata": {
    "collapsed": false
   },
   "outputs": [
    {
     "name": "stdout",
     "output_type": "stream",
     "text": [
      "caught inner \"bogus\"\n"
     ]
    },
    {
     "data": {
      "text/plain": [
       "false"
      ]
     },
     "execution_count": 12,
     "metadata": {},
     "output_type": "execute_result"
    }
   ],
   "source": [
    "// another example\n",
    "function f() {\n",
    "  try {\n",
    "    throw \"bogus\";\n",
    "  } catch(e) {\n",
    "    console.log('caught inner \"bogus\"');\n",
    "    throw e; // this throw statement is suspended until \n",
    "             // finally block has completed\n",
    "  } finally {\n",
    "    return false; // overwrites the previous \"throw\"\n",
    "  }\n",
    "  // \"return false\" is executed now\n",
    "}\n",
    "\n",
    "try {\n",
    "  f();\n",
    "} catch(e) {\n",
    "  // this is never reached because the throw inside\n",
    "  // the catch is overwritten\n",
    "  // by the return in finally\n",
    "  console.log('caught outer \"bogus\"');\n",
    "}\n"
   ]
  },
  {
   "cell_type": "raw",
   "metadata": {},
   "source": [
    "Error object\n",
    "\n",
    "function doSomethingErrorProne () {\n",
    "  if (ourCodeMakesAMistake()) {\n",
    "    throw (new Error('The message'));\n",
    "  } else {\n",
    "    doSomethingToGetAJavascriptError();\n",
    "  }\n",
    "}\n",
    "....\n",
    "try {\n",
    "  doSomethingErrorProne();\n",
    "} catch (e) {\n",
    "  console.log(e.name); // logs 'Error'\n",
    "  console.log(e.message); // logs 'The message' or a JavaScript error message)\n",
    "}"
   ]
  },
  {
   "cell_type": "code",
   "execution_count": 14,
   "metadata": {
    "collapsed": false
   },
   "outputs": [
    {
     "data": {
      "text/plain": [
       "'Error'"
      ]
     },
     "execution_count": 14,
     "metadata": {},
     "output_type": "execute_result"
    }
   ],
   "source": [
    "new Error('message').name"
   ]
  },
  {
   "cell_type": "code",
   "execution_count": 16,
   "metadata": {
    "collapsed": false
   },
   "outputs": [
    {
     "data": {
      "text/plain": [
       "'the message'"
      ]
     },
     "execution_count": 16,
     "metadata": {},
     "output_type": "execute_result"
    }
   ],
   "source": [
    "new Error('the message').message"
   ]
  },
  {
   "cell_type": "markdown",
   "metadata": {},
   "source": [
    "## Promises"
   ]
  },
  {
   "cell_type": "code",
   "execution_count": null,
   "metadata": {
    "collapsed": true
   },
   "outputs": [],
   "source": []
  }
 ],
 "metadata": {
  "kernelspec": {
   "display_name": "Javascript (Node.js)",
   "language": "javascript",
   "name": "javascript"
  },
  "language_info": {
   "file_extension": ".js",
   "mimetype": "application/javascript",
   "name": "javascript",
   "version": "5.12.0"
  }
 },
 "nbformat": 4,
 "nbformat_minor": 1
}
